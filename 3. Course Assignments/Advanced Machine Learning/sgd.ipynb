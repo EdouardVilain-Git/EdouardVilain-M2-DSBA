{
 "cells": [
  {
   "cell_type": "markdown",
   "metadata": {},
   "source": [
    "# Lab 3: Stochastic Gradient Descent"
   ]
  },
  {
   "cell_type": "markdown",
   "metadata": {},
   "source": [
    "The goal of this lab session is to code an optimization algorithm that optimzes the penalized loss function of the logistic regression model.\n",
    "\n",
    "You have to send the filled notebook named **\"L3_familyname1_familyname2.ipynb\"** (groups of 2) by email to aml.centralesupelec.2019@gmail.com by October 17, 2019. Please put **\"AML-L3\"** in the subject. \n",
    "\n",
    "We begin with the standard imports:"
   ]
  },
  {
   "cell_type": "code",
   "execution_count": 7,
   "metadata": {},
   "outputs": [],
   "source": [
    "%matplotlib inline\n",
    "import matplotlib.pyplot as plt\n",
    "import seaborn as sns; sns.set()\n",
    "import numpy as np\n",
    "import pandas as pd"
   ]
  },
  {
   "cell_type": "markdown",
   "metadata": {},
   "source": [
    "We import the dataset that we are going to use, an indian dataset including in the last column information about the diabetes status of patients:"
   ]
  },
  {
   "cell_type": "code",
   "execution_count": 8,
   "metadata": {},
   "outputs": [],
   "source": [
    "\"\"\"\n",
    "Using 'w8a.csv' as training data and 'w8a_t.csv' as testing data.\n",
    "\"\"\"\n",
    "\n",
    "from sklearn import model_selection\n",
    "\n",
    "w8a_train = pd.read_csv(\"w8a/w8a.csv\", sep=\";\")\n",
    "w8a_test = pd.read_csv(\"w8a/w8a_t.csv\", sep=\";\")\n",
    "\n",
    "w8a_train_x = w8a_train.iloc[:, :-1].values\n",
    "w8a_train_y = w8a_train.iloc[:, -1].values\n",
    "w8a_train_y[w8a_train_y == 0] = -1\n",
    "\n",
    "w8a_test_x = w8a_test.iloc[:, :-1].values\n",
    "w8a_test_y = w8a_test.iloc[:, -1].values\n",
    "w8a_test_y[w8a_test_y == 0] = -1"
   ]
  },
  {
   "cell_type": "code",
   "execution_count": 9,
   "metadata": {
    "scrolled": true
   },
   "outputs": [
    {
     "data": {
      "text/plain": [
       "((49748, 301), (14950, 301))"
      ]
     },
     "execution_count": 9,
     "metadata": {},
     "output_type": "execute_result"
    }
   ],
   "source": [
    "w8a_train.shape, w8a_test.shape"
   ]
  },
  {
   "cell_type": "code",
   "execution_count": 10,
   "metadata": {},
   "outputs": [
    {
     "name": "stdout",
     "output_type": "stream",
     "text": [
      "Train Set:  (array([-1,  1]), array([48269,  1479]))\n",
      "Test Set:  (array([-1,  1]), array([14496,   454]))\n"
     ]
    }
   ],
   "source": [
    "print('Train Set: ',np.unique(w8a_train.iloc[:,-1].values, return_counts=True))\n",
    "print('Test Set: ',np.unique(w8a_test.iloc[:,-1].values, return_counts=True))"
   ]
  },
  {
   "cell_type": "code",
   "execution_count": 11,
   "metadata": {},
   "outputs": [
    {
     "name": "stdout",
     "output_type": "stream",
     "text": [
      "0.029729838385462733\n",
      "0.03036789297658863\n"
     ]
    }
   ],
   "source": [
    "train_count = np.unique(w8a_train.iloc[:,-1].values, return_counts=True)\n",
    "test_count = np.unique(w8a_test.iloc[:,-1].values, return_counts=True)\n",
    "print(train_count[1][1]/np.sum(train_count[1]))\n",
    "print(test_count[1][1]/np.sum(test_count[1]))"
   ]
  },
  {
   "cell_type": "markdown",
   "metadata": {},
   "source": [
    "## Logistic Regression\n",
    "\n"
   ]
  },
  {
   "cell_type": "markdown",
   "metadata": {},
   "source": [
    "Today we’ll be moving from linear regression to logistic regression, one of the simplest ways to deal with a classification problem. Instead of fitting a line, logistic regression models the probability that the outcome is 1 given the value of the predictor. In order to do this we need a function that transforms our predictor variable to a value between 0 and 1. Lots of functions can do that, but the logistic function is the most common choice:\n",
    "\n",
    "$$f(z) = \\frac{1}{1+\\exp{-z}}.$$\n",
    "\n",
    "To predict the class of our observations we'll have to minimize the corresponding loss function and as we are in a high-dimensional context we'll add an $l_2$ regularization to the model:\n",
    "\n",
    "$$L(\\textbf{w}) = \\sum_{i=1}^n log(1+\\exp(-y_i\\textbf{w}^Tx_i))+\\frac{\\lambda}{2} \\| \\textbf{w} \\|^2,$$\n",
    "\n",
    "where $x_i$ is the vector of features for the observation $i$ and $y_i \\in \\{-1, 1\\}$ is the class label.  \n"
   ]
  },
  {
   "cell_type": "markdown",
   "metadata": {},
   "source": [
    "We first use the `sklearn` implementation:"
   ]
  },
  {
   "cell_type": "code",
   "execution_count": 12,
   "metadata": {},
   "outputs": [
    {
     "name": "stderr",
     "output_type": "stream",
     "text": [
      "/opt/anaconda3/lib/python3.7/site-packages/sklearn/linear_model/logistic.py:947: ConvergenceWarning: lbfgs failed to converge. Increase the number of iterations.\n",
      "  \"of iterations.\", ConvergenceWarning)\n"
     ]
    }
   ],
   "source": [
    "from sklearn.linear_model import LogisticRegression\n",
    "\n",
    "model = LogisticRegression(penalty=\"l2\", solver=\"lbfgs\", C=2) \n",
    "model.fit(w8a_train_x, w8a_train_y)\n",
    "y_pred = model.predict(w8a_test_x)"
   ]
  },
  {
   "cell_type": "markdown",
   "metadata": {},
   "source": [
    "and we compute the accuracy score to evaluate the model performance:"
   ]
  },
  {
   "cell_type": "code",
   "execution_count": 13,
   "metadata": {
    "scrolled": true
   },
   "outputs": [
    {
     "data": {
      "text/plain": [
       "0.9866220735785953"
      ]
     },
     "execution_count": 13,
     "metadata": {},
     "output_type": "execute_result"
    }
   ],
   "source": [
    "from sklearn.metrics import accuracy_score\n",
    "accuracy_score(w8a_test_y, y_pred)"
   ]
  },
  {
   "cell_type": "code",
   "execution_count": 14,
   "metadata": {},
   "outputs": [
    {
     "data": {
      "text/plain": [
       "(array([-1,  1]), array([14640,   310]))"
      ]
     },
     "execution_count": 14,
     "metadata": {},
     "output_type": "execute_result"
    }
   ],
   "source": [
    "np.unique(y_pred, return_counts=True)"
   ]
  },
  {
   "cell_type": "code",
   "execution_count": 15,
   "metadata": {},
   "outputs": [
    {
     "data": {
      "image/png": "[encoded data removed]",
      "text/plain": [
       "<Figure size 432x288 with 2 Axes>"
      ]
     },
     "metadata": {
      "needs_background": "light"
     },
     "output_type": "display_data"
    }
   ],
   "source": [
    "from sklearn.metrics import confusion_matrix\n",
    "\n",
    "plt.figure(figsize=(6,4))\n",
    "plt.title('Test Data - Confusion Matrix',fontsize=15)\n",
    "sns.heatmap(confusion_matrix(w8a_test_y,y_pred), annot=True, fmt='d', cbar=True, xticklabels=[-1,1], yticklabels=[-1,1])\n",
    "plt.xlabel('Prediction')\n",
    "plt.ylabel('Ground Truth')\n",
    "plt.show()"
   ]
  },
  {
   "cell_type": "markdown",
   "metadata": {},
   "source": [
    "### Assignment\n",
    "\n",
    "Implement from scratch your own logistic regression model with stochastic gradient descent optimization. \n",
    "\n",
    "- Fill in the class\n",
    "\n",
    "- Display the evolution of the cost function along iterations. Do this for several strategies for the setting of the learning rate\n",
    "\n",
    "- Try the different acceleration strategies\n",
    "\n",
    "- Train the model with the training set and evaluate its performance in the test set"
   ]
  },
  {
   "cell_type": "markdown",
   "metadata": {},
   "source": [
    "First, let us compute the gradient of the logistic regression:"
   ]
  },
  {
   "cell_type": "markdown",
   "metadata": {},
   "source": [
    "Note: \n",
    "$$ l_{i}(w) = log(1+exp(-y_{i}w^{T}x_{i})) $$\n",
    "Then:\n",
    "$$ \\frac{\\partial l_{i}}{\\partial w_{j}}(w) = \\frac{\\partial}{\\partial w_{j}}(log(1+exp(-y_{i}w_{j}x_{i}^{(j)})))(w)  $$\n",
    "$$ \\Longrightarrow \\frac{\\partial l_{i}}{\\partial w_{j}}(w) = \\frac{-y_{i}x_{i}^{(j)}}{1+exp(y_{i}w_{j}x_{i}^{(j)})} $$\n",
    "From which we can easily derive $\\nabla L$."
   ]
  },
  {
   "cell_type": "code",
   "execution_count": 16,
   "metadata": {},
   "outputs": [],
   "source": [
    "import math\n",
    "import random"
   ]
  },
  {
   "cell_type": "code",
   "execution_count": 179,
   "metadata": {},
   "outputs": [],
   "source": [
    "class StochasticLogisticRegression():\n",
    "    \"\"\" Class for logistic regression:\n",
    "    \n",
    "    Attributes:\n",
    "    -----------\n",
    "    coef_: 1-dimensional np.array\n",
    "        coefficients \n",
    "    alpha_: float\n",
    "        regularization parameter\n",
    "    lr_: float\n",
    "        the learning rate\n",
    "    bsize: integer\n",
    "        the size of the mini-batch >=1\n",
    "    coef_history_: list\n",
    "        the list of all visited betas\n",
    "    f_history_: list \n",
    "        the list of all evaluations in visited betas\n",
    "    gradient_history_: list\n",
    "        the list of all gradients in visited batches and betas\n",
    "    st_: float\n",
    "        speed\n",
    "    mt_: np.array\n",
    "        position\n",
    "    \"\"\"\n",
    "    def __init__(self, alpha):\n",
    "        self.coef_  = None\n",
    "        self.alpha_ = alpha\n",
    "        self.lr_     = None\n",
    "        self.bsize_  = None\n",
    "        self.coef_history_ = []\n",
    "        self.f_history_ = []\n",
    "        self.gradient_history_ = []\n",
    "        self.st_ = None\n",
    "        self.mt_ = None\n",
    "\n",
    "    def logistic(self, z):\n",
    "        # logistic function\n",
    "        return 1 / (1 + np.exp(-z))\n",
    "    \n",
    "    \n",
    "    def compute_gradient(self, X_batch, y_batch):\n",
    "        \"\"\"\n",
    "        Generates mini-batch and computes gradient.\n",
    "        Args:\n",
    "        X: (num_samples, num_features+1) np.array\n",
    "            Design matrix\n",
    "        y: (num_samples,) np.array\n",
    "            Output vector\n",
    "        \"\"\"\n",
    "        yX = np.matmul(np.diag(y_batch),X_batch)\n",
    "        yy_hat = np.matmul(yX,np.diag(self.coef_))\n",
    "        logis = self.logistic(-yy_hat)\n",
    "        dli_dwj = - yX * logis\n",
    "        gradient = np.mean(dli_dwj, axis=0)\n",
    "        # Add gradient to history\n",
    "        self.gradient_history_.append(gradient)\n",
    "        \n",
    "\n",
    "    def update_coef(self, iter_, method='ADAM', eps=1e-8, gamma=.9, beta=.999):\n",
    "        \"\"\"\n",
    "        Updates coefficients given input acceleration method.\n",
    "        Args:\n",
    "        method: string\n",
    "            Gradient Descent acceleration method. Must take values in ['Vanilla','Adagrad','RMSprop','Momentum',\n",
    "            'ADAM'].\n",
    "        eps: float\n",
    "            Small epsilon used to ensure non-vanishing learning rate\n",
    "        gamma, beta: float\n",
    "            Hyper-parameters used in RMSprop, Momentum and ADAM gradient descent\n",
    "        \"\"\"\n",
    "        if method == 'Vanilla':\n",
    "            # Vanilla gradient descent\n",
    "            self.st_ = 1.\n",
    "            self.mt_ = self.gradient_history_[-1]\n",
    "            \n",
    "        elif method == 'Adagrad':\n",
    "            # Adagrad gradient descent\n",
    "            if self.st_ is None:\n",
    "                self.st_ = 1.\n",
    "            else:\n",
    "                self.st_ = self.st_ + np.linalg.norm(self.gradient_history_[-1])**2\n",
    "            self.mt_ = self.gradient_history_[-1]\n",
    "            \n",
    "        elif method == 'RMSprop':\n",
    "            if self.st_ is None:\n",
    "                self.st_ = 1.\n",
    "            else:\n",
    "                self.st_ = gamma * self.st_ + (1-gamma) * np.linalg.norm(self.gradient_history_[-1]) ** 2\n",
    "            self.mt_ = self.gradient_history_[-1]\n",
    "            \n",
    "        elif method == 'Momentum':\n",
    "            self.st_ = 1.\n",
    "            if self.mt_ is None:\n",
    "                self.mt_ = self.gradient_history_[-1]\n",
    "            else:\n",
    "                self.mt_ = beta * self.mt_ + self.gradient_history_[-1]\n",
    "            \n",
    "        elif method == 'ADAM':\n",
    "            if self.st_ is None:\n",
    "                self.st_ = 1.\n",
    "                self.mt_ = self.gradient_history_[-1]\n",
    "            else:\n",
    "                self.st_ = gamma * self.st_ + (1-gamma) * np.linalg.norm(self.gradient_history_[-1])**2\n",
    "                self.mt_ = beta * self.mt_ + (1-beta) * self.gradient_history_[-1]\n",
    "            \n",
    "        else:\n",
    "            # Raise error because of wrong input acceleration method\n",
    "            raise ValueError(\"Acceleration method must be included in ['Vanilla','Adagrad','RMSprop','Momentum','ADAM'].\")\n",
    "            \n",
    "        # Update coefficients\n",
    "        self.coef_ = self.coef_ - self.lr_ * (self.mt_ + self.alpha_ * self.coef_ / self.bsize_) / math.sqrt(self.st_ + eps)\n",
    "        self.coef_history_.append(self.coef_)\n",
    "        \n",
    "        \n",
    "    def fit(self, X, y, lr=1e-3, bsize=100, max_iter=100, method='ADAM', eps=1e-8, gamma=.9, beta=.999, patience=100, random_state=12345, plot=True):\n",
    "        \"\"\" Fit the data (X, y).\n",
    "    \n",
    "        Parameters:\n",
    "        -----------\n",
    "        X: (num_samples, num_features) np.array\n",
    "            Design matrix\n",
    "        y: (num_sampes, ) np.array\n",
    "            Output vector\n",
    "        patience: integer\n",
    "            If model does not improve for patience iterations, training is stopped\n",
    "        eps: float\n",
    "            Small epsilon used to ensure non-vanishing learning rate\n",
    "        gamma, beta: float\n",
    "            Hyper-parameters for accelerated gradient descent methods\n",
    "        random_state: integer\n",
    "            seed for random generation\n",
    "        \n",
    "        Note:\n",
    "        -----\n",
    "        Updates self.coef_\n",
    "        \"\"\"\n",
    "        # Initialize input attributes\n",
    "        self.lr_ = lr\n",
    "        self.bsize_ = bsize\n",
    "        \n",
    "        # Initialize random generator\n",
    "        rng = np.random.default_rng(random_state)\n",
    "        \n",
    "        # Add column of ones to data\n",
    "        X_aug = np.c_[np.ones((X.shape[0],)),X]\n",
    "        \n",
    "        # Initialize coefficients randomly between 0 and 1\n",
    "        self.coef_ = rng.random(X_aug.shape[1],)\n",
    "        self.coef_history_.append(self.coef_)\n",
    "        \n",
    "        # batches will be used to generate random mini-batches\n",
    "        batches = np.arange(X_aug.shape[0])\n",
    "        iter_ = 0\n",
    "        \n",
    "        def f_lr():\n",
    "            '''evaluate the F=\\sum_{i=1}^n f_i in beta'''\n",
    "            y_hat = np.matmul(X_aug, self.coef_.T)\n",
    "            z = y * y_hat\n",
    "            logis = self.logistic(z)\n",
    "            log = - np.log(logis)\n",
    "            loss = np.mean(log)\n",
    "            return loss + self.alpha_ * np.linalg.norm(self.coef_) ** 2 / (2*X_aug.shape[0])\n",
    "        \n",
    "        # Convergence is met if model doesn't improve during patience iterations\n",
    "        converge = False\n",
    "        best_ = 0\n",
    "        \n",
    "        loss = f_lr()\n",
    "        self.f_history_.append(loss)\n",
    "        \n",
    "        # Loop until convergence\n",
    "        while not converge and iter_ <= max_iter:\n",
    "            # Increment iteration\n",
    "            iter_ += 1\n",
    "            \n",
    "            # Generate random batches\n",
    "            rng.shuffle(batches)\n",
    "            \n",
    "            for start in range(0,batches.shape[0],self.bsize_):\n",
    "                # Create mini-batch\n",
    "                batch = batches[start:start+self.bsize_]\n",
    "                X_batch, y_batch = X_aug[start:start+self.bsize_,:], y[start:start+self.bsize_]\n",
    "                \n",
    "                # Compute gradient over batch\n",
    "                self.compute_gradient(X_batch, y_batch)\n",
    "                \n",
    "                # Update coefficients with regards to method\n",
    "                self.update_coef(iter_, method=method, eps=eps, gamma=gamma, beta=beta)\n",
    "                \n",
    "            # Compute loss\n",
    "            loss = f_lr()\n",
    "            self.f_history_.append(loss)\n",
    "            \n",
    "            if loss <= min(self.f_history_):\n",
    "                best_ = iter_\n",
    "            elif iter_ - best_ + 1 >= patience:\n",
    "                converge = True\n",
    "                \n",
    "        if plot:\n",
    "            plt.plot(self.f_history_)\n",
    "            plt.title('Training Loss, Best={} at Iteration: {}'.format(round(self.f_history_[best_],2) ,best_+1))\n",
    "            \n",
    "         \n",
    "    def predict(self, X):\n",
    "        \"\"\" Make binary predictions for data X.\n",
    "    \n",
    "        Parameters:\n",
    "        -----------\n",
    "        X: (num_samples, num_features) np.array\n",
    "            Design matrix\n",
    "        \n",
    "        Returns:\n",
    "        -----\n",
    "        y_pred: (num_samples, ) np.array\n",
    "            Predictions (-1 or 1)\n",
    "        \"\"\"\n",
    "        X_aug = np.c_[np.ones((X.shape[0],)),X]\n",
    "        prod_pred = np.matmul(X_aug,self.coef_.T)\n",
    "        # Negative values take label -1, positives take value 1\n",
    "        prod_pred[prod_pred >= 0] = 1\n",
    "        prod_pred[prod_pred < 0] = -1\n",
    "        \n",
    "        return prod_pred"
   ]
  },
  {
   "cell_type": "markdown",
   "metadata": {},
   "source": [
    "Apply to data"
   ]
  },
  {
   "cell_type": "markdown",
   "metadata": {},
   "source": [
    "Implement three acceleration methods and compare the results"
   ]
  },
  {
   "cell_type": "code",
   "execution_count": 180,
   "metadata": {},
   "outputs": [],
   "source": [
    "X_train,y_train = w8a_train_x, w8a_train_y\n",
    "X_test,y_test = w8a_test_x, w8a_test_y"
   ]
  },
  {
   "cell_type": "code",
   "execution_count": 181,
   "metadata": {},
   "outputs": [],
   "source": [
    "alpha = .01"
   ]
  },
  {
   "cell_type": "code",
   "execution_count": 164,
   "metadata": {},
   "outputs": [
    {
     "data": {
      "image/png": "[encoded data removed]",
      "text/plain": [
       "<Figure size 432x288 with 1 Axes>"
      ]
     },
     "metadata": {
      "needs_background": "light"
     },
     "output_type": "display_data"
    }
   ],
   "source": [
    "vanilla = StochasticLogisticRegression(alpha)\n",
    "vanilla.fit(X_train,y_train,max_iter=100,bsize=100,method='Vanilla')"
   ]
  },
  {
   "cell_type": "code",
   "execution_count": 165,
   "metadata": {},
   "outputs": [
    {
     "data": {
      "image/png": "[encoded data removed]",
      "text/plain": [
       "<Figure size 432x288 with 1 Axes>"
      ]
     },
     "metadata": {
      "needs_background": "light"
     },
     "output_type": "display_data"
    }
   ],
   "source": [
    "adagrad = StochasticLogisticRegression(alpha)\n",
    "adagrad.fit(X_train,y_train,max_iter=100,bsize=100,method='Adagrad')"
   ]
  },
  {
   "cell_type": "code",
   "execution_count": 166,
   "metadata": {},
   "outputs": [
    {
     "data": {
      "image/png": "[encoded data removed]",
      "text/plain": [
       "<Figure size 432x288 with 1 Axes>"
      ]
     },
     "metadata": {
      "needs_background": "light"
     },
     "output_type": "display_data"
    }
   ],
   "source": [
    "rmsprop = StochasticLogisticRegression(alpha)\n",
    "rmsprop.fit(X_train,y_train,max_iter=100,bsize=100,method='RMSprop')"
   ]
  },
  {
   "cell_type": "code",
   "execution_count": 167,
   "metadata": {},
   "outputs": [
    {
     "data": {
      "image/png": "[encoded data removed]",
      "text/plain": [
       "<Figure size 432x288 with 1 Axes>"
      ]
     },
     "metadata": {
      "needs_background": "light"
     },
     "output_type": "display_data"
    }
   ],
   "source": [
    "momentum = StochasticLogisticRegression(alpha)\n",
    "momentum.fit(X_train,y_train,max_iter=100,bsize=100,method='Momentum')"
   ]
  },
  {
   "cell_type": "code",
   "execution_count": 182,
   "metadata": {},
   "outputs": [
    {
     "data": {
      "image/png": "[encoded data removed]",
      "text/plain": [
       "<Figure size 432x288 with 1 Axes>"
      ]
     },
     "metadata": {
      "needs_background": "light"
     },
     "output_type": "display_data"
    }
   ],
   "source": [
    "adam = StochasticLogisticRegression(alpha)\n",
    "adam.fit(X_train,y_train,max_iter=100,bsize=100,method='ADAM')"
   ]
  },
  {
   "cell_type": "code",
   "execution_count": 169,
   "metadata": {},
   "outputs": [],
   "source": [
    "vanilla_pred = vanilla.predict(X_test)\n",
    "adagrad_pred = adagrad.predict(X_test)\n",
    "rmsprop_pred = rmsprop.predict(X_test)\n",
    "momentum_pred = momentum.predict(X_test)\n",
    "adam_pred = adam.predict(X_test)"
   ]
  },
  {
   "cell_type": "code",
   "execution_count": 170,
   "metadata": {},
   "outputs": [
    {
     "name": "stdout",
     "output_type": "stream",
     "text": [
      "Vanilla accuracy:  0.03036789297658863\n",
      "Adagrad accuracy:  0.03036789297658863\n",
      "RMSProp accuracy:  0.03036789297658863\n",
      "Momentum accuracy:  0.3725752508361204\n",
      "ADAM accuracy:  0.03036789297658863\n"
     ]
    }
   ],
   "source": [
    "print('Vanilla accuracy: ',accuracy_score(w8a_test_y,vanilla_pred))\n",
    "print('Adagrad accuracy: ',accuracy_score(w8a_test_y,adagrad_pred))\n",
    "print('RMSProp accuracy: ',accuracy_score(w8a_test_y,rmsprop_pred))\n",
    "print('Momentum accuracy: ',accuracy_score(w8a_test_y,momentum_pred))\n",
    "print('ADAM accuracy: ',accuracy_score(w8a_test_y,adam_pred))"
   ]
  },
  {
   "cell_type": "markdown",
   "metadata": {},
   "source": [
    "##### First Remarks:\n",
    "Adagrad doesn't seem to work correctly. At least it learns much slower than the other tested methods. Let us compare learning curves from Vanilla, RMS-Prop, Momentum and ADAM methods."
   ]
  },
  {
   "cell_type": "markdown",
   "metadata": {},
   "source": [
    "### Method Comparison"
   ]
  },
  {
   "cell_type": "code",
   "execution_count": 100,
   "metadata": {},
   "outputs": [],
   "source": [
    "X_train,y_train = w8a_train_x, w8a_train_y\n",
    "X_test,y_test = w8a_test_x, w8a_test_y"
   ]
  },
  {
   "cell_type": "code",
   "execution_count": 101,
   "metadata": {},
   "outputs": [],
   "source": [
    "alpha = .01"
   ]
  },
  {
   "cell_type": "code",
   "execution_count": 102,
   "metadata": {},
   "outputs": [],
   "source": [
    "vanilla = StochasticLogisticRegression(alpha)\n",
    "rmsprop = StochasticLogisticRegression(alpha)\n",
    "momentum = StochasticLogisticRegression(alpha)\n",
    "adam = StochasticLogisticRegression(alpha)"
   ]
  },
  {
   "cell_type": "code",
   "execution_count": 103,
   "metadata": {},
   "outputs": [
    {
     "name": "stdout",
     "output_type": "stream",
     "text": [
      "Vanilla trained.\n",
      "RMSProp trained.\n",
      "Momentum trained.\n",
      "ADAM trained.\n"
     ]
    }
   ],
   "source": [
    "vanilla.fit(X_train,y_train,max_iter=100,bsize=100,method='Vanilla',plot=False)\n",
    "print('Vanilla trained.')\n",
    "rmsprop.fit(X_train,y_train,max_iter=100,bsize=100,method='RMSprop',plot=False)\n",
    "print('RMSProp trained.')\n",
    "momentum.fit(X_train,y_train,max_iter=100,bsize=100,method='Momentum',plot=False)\n",
    "print('Momentum trained.')\n",
    "adam.fit(X_train,y_train,max_iter=100,bsize=100,method='ADAM',plot=False)\n",
    "print('ADAM trained.')"
   ]
  },
  {
   "cell_type": "code",
   "execution_count": 106,
   "metadata": {},
   "outputs": [],
   "source": [
    "vanilla_f_ = np.log(vanilla.f_history_)\n",
    "rmsprop_f_ = np.log(rmsprop.f_history_)\n",
    "momentum_f_ = np.log(momentum.f_history_)\n",
    "adam_f_ = np.log(adam.f_history_)"
   ]
  },
  {
   "cell_type": "code",
   "execution_count": 114,
   "metadata": {},
   "outputs": [
    {
     "data": {
      "image/png": "[encoded data removed]",
      "text/plain": [
       "<Figure size 720x432 with 1 Axes>"
      ]
     },
     "metadata": {
      "needs_background": "light"
     },
     "output_type": "display_data"
    }
   ],
   "source": [
    "plt.figure(figsize=(10,6))\n",
    "plt.plot(vanilla_f_, color='b', label='Vanilla')\n",
    "plt.plot(rmsprop_f_, color='r', label='RMSProp')\n",
    "plt.plot(momentum_f_, color='g', label='Momentum')\n",
    "plt.plot(adam_f_, color='m', label='ADAM')\n",
    "plt.legend(loc='upper right')\n",
    "plt.title('Training Loss - Method Comparison')\n",
    "plt.xlabel('Epochs')\n",
    "plt.ylabel('Loss - Log Scale')\n",
    "plt.show()"
   ]
  },
  {
   "cell_type": "code",
   "execution_count": 117,
   "metadata": {},
   "outputs": [],
   "source": [
    "# Computing models' best epoch\n",
    "vanilla_best = vanilla.f_history_.index(min(vanilla.f_history_))\n",
    "rmsprop_best = rmsprop.f_history_.index(min(rmsprop.f_history_))\n",
    "momentum_best = momentum.f_history_.index(min(momentum.f_history_))\n",
    "adam_best = adam.f_history_.index(min(adam.f_history_))"
   ]
  },
  {
   "cell_type": "code",
   "execution_count": 120,
   "metadata": {},
   "outputs": [
    {
     "name": "stdout",
     "output_type": "stream",
     "text": [
      "Best Epoch - Vanilla:  46\n",
      "Best Epoch - RMSProp:  39\n",
      "Best Epoch - Momentum:  101\n",
      "Best Epoch - ADAM:  39\n"
     ]
    }
   ],
   "source": [
    "print('Best Epoch - Vanilla: ', vanilla_best)\n",
    "print('Best Epoch - RMSProp: ', rmsprop_best)\n",
    "print('Best Epoch - Momentum: ', momentum_best)\n",
    "print('Best Epoch - ADAM: ', adam_best)"
   ]
  },
  {
   "cell_type": "markdown",
   "metadata": {},
   "source": [
    "As expected, RMSProp and ADAM offer faster learning than Vanilla. More unexpected though, Momentum is still learning after 100 epochs, therefore has a much longer learning process."
   ]
  },
  {
   "cell_type": "code",
   "execution_count": 118,
   "metadata": {},
   "outputs": [],
   "source": [
    "vanilla_pred = vanilla.predict(X_test)\n",
    "rmsprop_pred = rmsprop.predict(X_test)\n",
    "momentum_pred = momentum.predict(X_test)\n",
    "adam_pred = adam.predict(X_test)"
   ]
  },
  {
   "cell_type": "code",
   "execution_count": 119,
   "metadata": {},
   "outputs": [
    {
     "name": "stdout",
     "output_type": "stream",
     "text": [
      "Vanilla accuracy:  0.9707023411371237\n",
      "RMSProp accuracy:  0.9696989966555184\n",
      "Momentum accuracy:  0.9711036789297659\n",
      "ADAM accuracy:  0.9697658862876254\n"
     ]
    }
   ],
   "source": [
    "print('Vanilla accuracy: ',accuracy_score(w8a_test_y,vanilla_pred))\n",
    "print('RMSProp accuracy: ',accuracy_score(w8a_test_y,rmsprop_pred))\n",
    "print('Momentum accuracy: ',accuracy_score(w8a_test_y,momentum_pred))\n",
    "print('ADAM accuracy: ',accuracy_score(w8a_test_y,adam_pred))"
   ]
  },
  {
   "cell_type": "code",
   "execution_count": 133,
   "metadata": {},
   "outputs": [
    {
     "data": {
      "image/png": "[encoded data removed]",
      "text/plain": [
       "<Figure size 720x576 with 8 Axes>"
      ]
     },
     "metadata": {
      "needs_background": "light"
     },
     "output_type": "display_data"
    }
   ],
   "source": [
    "fig,axs = plt.subplots(nrows=2, ncols=2, figsize=(10,8), constrained_layout=True)\n",
    "\n",
    "axs[0,0].set_title('Test Data - Vanilla')\n",
    "sns.heatmap(confusion_matrix(w8a_test_y,vanilla_pred), annot=True, fmt='d', cbar=True, xticklabels=[-1,1], yticklabels=[-1,1], ax=axs[0,0])\n",
    "axs[0,0].set_xlabel('Prediction')\n",
    "axs[0,0].set_ylabel('Ground Truth')\n",
    "\n",
    "axs[0,1].set_title('Test Data - RMSProp')\n",
    "axs[0,1] = sns.heatmap(confusion_matrix(w8a_test_y,rmsprop_pred), annot=True, fmt='d', cbar=True, xticklabels=[-1,1], yticklabels=[-1,1], ax=axs[0,1])\n",
    "axs[0,1].set_xlabel('Prediction')\n",
    "axs[0,1].set_ylabel('Ground Truth')\n",
    "\n",
    "axs[1,0].set_title('Test Data - Momentum')\n",
    "axs[1,0] = sns.heatmap(confusion_matrix(w8a_test_y,momentum_pred), annot=True, fmt='d', cbar=True, xticklabels=[-1,1], yticklabels=[-1,1], ax=axs[1,0])\n",
    "axs[1,0].set_xlabel('Prediction')\n",
    "axs[1,0].set_ylabel('Ground Truth')\n",
    "\n",
    "axs[1,1].set_title('Test Data - ADAM')\n",
    "axs[1,1] = sns.heatmap(confusion_matrix(w8a_test_y,adam_pred), annot=True, fmt='d', cbar=True, xticklabels=[-1,1], yticklabels=[-1,1], ax=axs[1,1])\n",
    "axs[1,1].set_xlabel('Prediction')\n",
    "axs[1,1].set_ylabel('Ground Truth')\n",
    "\n",
    "plt.show()"
   ]
  },
  {
   "cell_type": "markdown",
   "metadata": {},
   "source": [
    "Quite surprisingly, Momentum offers the best accuracy, though its loss is the worst."
   ]
  },
  {
   "cell_type": "markdown",
   "metadata": {},
   "source": [
    "## Parameter Tuning"
   ]
  },
  {
   "cell_type": "markdown",
   "metadata": {},
   "source": [
    "In this section, we attempt to tune the ADAM method. Note that this process should be done using a validation/tune set. \\\n",
    "Moreover, grid-search should be applied to tune parameters altogether. Because of time constraints, we decide to tune parameters independently."
   ]
  },
  {
   "cell_type": "markdown",
   "metadata": {},
   "source": [
    "#### Learning Rate"
   ]
  },
  {
   "cell_type": "code",
   "execution_count": 209,
   "metadata": {},
   "outputs": [],
   "source": [
    "lr_vals = [1e-2,1e-3,1e-4]"
   ]
  },
  {
   "cell_type": "code",
   "execution_count": 212,
   "metadata": {},
   "outputs": [
    {
     "name": "stdout",
     "output_type": "stream",
     "text": [
      "Model trained for lr value: 0.01\n",
      "Model trained for lr value: 0.001\n",
      "Model trained for lr value: 0.0001\n"
     ]
    }
   ],
   "source": [
    "# Model training\n",
    "models = []\n",
    "\n",
    "for lr in lr_vals:\n",
    "    model = StochasticLogisticRegression(.01)\n",
    "    model.fit(X_train,y_train,lr=lr,method='ADAM',plot=False)\n",
    "    models.append(model)\n",
    "    print('Model trained for lr value: {}'.format(lr))"
   ]
  },
  {
   "cell_type": "code",
   "execution_count": 213,
   "metadata": {},
   "outputs": [
    {
     "name": "stdout",
     "output_type": "stream",
     "text": [
      "Accuracy Score - Learning Rate=0.01: 0.9696321070234114\n",
      "Accuracy Score - Learning Rate=0.001: 0.9697658862876254\n",
      "Accuracy Score - Learning Rate=0.0001: 0.4189297658862876\n"
     ]
    }
   ],
   "source": [
    "# Comparing Accuracies\n",
    "for i in range(len(lr_vals)):\n",
    "    lr = lr_vals[i]\n",
    "    model = models[i]\n",
    "    pred = model.predict(X_test)\n",
    "    print(\"Accuracy Score - Learning Rate={}: {}\".format(lr,accuracy_score(y_test,pred)))"
   ]
  },
  {
   "cell_type": "markdown",
   "metadata": {},
   "source": [
    "Results are best for lr=0.001."
   ]
  },
  {
   "cell_type": "code",
   "execution_count": 214,
   "metadata": {},
   "outputs": [],
   "source": [
    "best_lr = 1e-3"
   ]
  },
  {
   "cell_type": "markdown",
   "metadata": {},
   "source": [
    "#### Alpha"
   ]
  },
  {
   "cell_type": "code",
   "execution_count": 215,
   "metadata": {},
   "outputs": [],
   "source": [
    "alpha_vals = [1., .1, .01, .001]"
   ]
  },
  {
   "cell_type": "code",
   "execution_count": 216,
   "metadata": {},
   "outputs": [
    {
     "name": "stdout",
     "output_type": "stream",
     "text": [
      "Model trained for alpha value: 1.0\n",
      "Model trained for alpha value: 0.1\n",
      "Model trained for alpha value: 0.01\n",
      "Model trained for alpha value: 0.001\n"
     ]
    }
   ],
   "source": [
    "# Model training\n",
    "models = []\n",
    "\n",
    "for alpha in alpha_vals:\n",
    "    model = StochasticLogisticRegression(alpha)\n",
    "    model.fit(X_train,y_train,lr=best_lr,method='ADAM',plot=False)\n",
    "    models.append(model)\n",
    "    print('Model trained for alpha value: {}'.format(alpha))"
   ]
  },
  {
   "cell_type": "code",
   "execution_count": 217,
   "metadata": {},
   "outputs": [
    {
     "name": "stdout",
     "output_type": "stream",
     "text": [
      "Accuracy Score - Alpha=1.0: 0.9696321070234114\n",
      "Accuracy Score - Alpha=0.1: 0.9696989966555184\n",
      "Accuracy Score - Alpha=0.01: 0.9697658862876254\n",
      "Accuracy Score - Alpha=0.001: 0.9697658862876254\n"
     ]
    }
   ],
   "source": [
    "# Comparing Accuracies\n",
    "for i in range(len(alpha_vals)):\n",
    "    alpha = alpha_vals[i]\n",
    "    model = models[i]\n",
    "    pred = model.predict(X_test)\n",
    "    print(\"Accuracy Score - Alpha={}: {}\".format(alpha,accuracy_score(y_test,pred)))"
   ]
  },
  {
   "cell_type": "markdown",
   "metadata": {},
   "source": [
    "Results are slightly best for alpha values: 0.01 and 0.001."
   ]
  },
  {
   "cell_type": "code",
   "execution_count": 218,
   "metadata": {},
   "outputs": [],
   "source": [
    "best_alpha = .01"
   ]
  },
  {
   "cell_type": "markdown",
   "metadata": {},
   "source": [
    "#### Batch Size"
   ]
  },
  {
   "cell_type": "code",
   "execution_count": 192,
   "metadata": {},
   "outputs": [],
   "source": [
    "bsize_vals = [10,50,100,250,500]"
   ]
  },
  {
   "cell_type": "code",
   "execution_count": 193,
   "metadata": {},
   "outputs": [
    {
     "name": "stdout",
     "output_type": "stream",
     "text": [
      "Model trained for batch size value: 10\n",
      "Model trained for batch size value: 50\n",
      "Model trained for batch size value: 100\n",
      "Model trained for batch size value: 250\n",
      "Model trained for batch size value: 500\n"
     ]
    }
   ],
   "source": [
    "# Model training\n",
    "models = []\n",
    "\n",
    "for bsize in bsize_vals:\n",
    "    model = StochasticLogisticRegression(best_alpha)\n",
    "    model.fit(X_train,y_train,lr=best_lr,bsize=bsize,method='ADAM',plot=False)\n",
    "    models.append(model)\n",
    "    print('Model trained for batch size value: {}'.format(bsize))"
   ]
  },
  {
   "cell_type": "code",
   "execution_count": 195,
   "metadata": {},
   "outputs": [
    {
     "name": "stdout",
     "output_type": "stream",
     "text": [
      "Accuracy Score - Batch Size=10: 0.9696321070234114\n",
      "Accuracy Score - Batch Size=50: 0.9696321070234114\n",
      "Accuracy Score - Batch Size=100: 0.9697658862876254\n",
      "Accuracy Score - Batch Size=250: 0.9712374581939799\n",
      "Accuracy Score - Batch Size=500: 0.9215384615384615\n"
     ]
    }
   ],
   "source": [
    "# Comparing Accuracies\n",
    "for i in range(len(bsize_vals)):\n",
    "    bsize = bsize_vals[i]\n",
    "    model = models[i]\n",
    "    pred = model.predict(X_test)\n",
    "    print(\"Accuracy Score - Batch Size={}: {}\".format(bsize,accuracy_score(y_test,pred)))"
   ]
  },
  {
   "cell_type": "markdown",
   "metadata": {},
   "source": [
    "Result is best for batch size 250."
   ]
  },
  {
   "cell_type": "code",
   "execution_count": 196,
   "metadata": {},
   "outputs": [],
   "source": [
    "best_bsize = 250"
   ]
  },
  {
   "cell_type": "markdown",
   "metadata": {},
   "source": [
    "#### Gamma"
   ]
  },
  {
   "cell_type": "markdown",
   "metadata": {},
   "source": [
    "$\\gamma=0.9$ is used as default value in ADAM's paper."
   ]
  },
  {
   "cell_type": "code",
   "execution_count": 198,
   "metadata": {},
   "outputs": [],
   "source": [
    "gamma_vals = [.5,.75,.9,.99]"
   ]
  },
  {
   "cell_type": "code",
   "execution_count": 199,
   "metadata": {},
   "outputs": [
    {
     "name": "stdout",
     "output_type": "stream",
     "text": [
      "Model trained for gamma value: 0.5\n",
      "Model trained for gamma value: 0.75\n",
      "Model trained for gamma value: 0.9\n",
      "Model trained for gamma value: 0.99\n"
     ]
    }
   ],
   "source": [
    "# Model training\n",
    "models = []\n",
    "\n",
    "for gamma in gamma_vals:\n",
    "    model = StochasticLogisticRegression(best_alpha)\n",
    "    model.fit(X_train,y_train,gamma=gamma,lr=best_lr,bsize=best_bsize,method='ADAM',plot=False)\n",
    "    models.append(model)\n",
    "    print('Model trained for gamma value: {}'.format(gamma))"
   ]
  },
  {
   "cell_type": "code",
   "execution_count": 200,
   "metadata": {},
   "outputs": [
    {
     "name": "stdout",
     "output_type": "stream",
     "text": [
      "Accuracy Score - Gamma=0.5: 0.9711036789297659\n",
      "Accuracy Score - Gamma=0.75: 0.9711705685618729\n",
      "Accuracy Score - Gamma=0.9: 0.9712374581939799\n",
      "Accuracy Score - Gamma=0.99: 0.9712374581939799\n"
     ]
    }
   ],
   "source": [
    "# Comparing Accuracies\n",
    "for i in range(len(gamma_vals)):\n",
    "    gamma = gamma_vals[i]\n",
    "    model = models[i]\n",
    "    pred = model.predict(X_test)\n",
    "    print(\"Accuracy Score - Gamma={}: {}\".format(gamma,accuracy_score(y_test,pred)))"
   ]
  },
  {
   "cell_type": "markdown",
   "metadata": {},
   "source": [
    "As expected, $\\gamma=0.9$ is the best value."
   ]
  },
  {
   "cell_type": "code",
   "execution_count": 202,
   "metadata": {},
   "outputs": [],
   "source": [
    "best_gamma = .9"
   ]
  },
  {
   "cell_type": "markdown",
   "metadata": {},
   "source": [
    "#### Beta"
   ]
  },
  {
   "cell_type": "markdown",
   "metadata": {},
   "source": [
    "$\\beta=0.999$ is also used in ADAM's paper."
   ]
  },
  {
   "cell_type": "code",
   "execution_count": 201,
   "metadata": {},
   "outputs": [],
   "source": [
    "beta_vals = [.7,.9,.99,.999]"
   ]
  },
  {
   "cell_type": "code",
   "execution_count": 203,
   "metadata": {},
   "outputs": [
    {
     "name": "stdout",
     "output_type": "stream",
     "text": [
      "Model trained for beta value: 0.7\n",
      "Model trained for beta value: 0.9\n",
      "Model trained for beta value: 0.99\n",
      "Model trained for beta value: 0.999\n"
     ]
    }
   ],
   "source": [
    "# Model training\n",
    "models = []\n",
    "\n",
    "for beta in beta_vals:\n",
    "    model = StochasticLogisticRegression(best_alpha)\n",
    "    model.fit(X_train,y_train,gamma=best_gamma,beta=beta,lr=best_lr,bsize=best_bsize,method='ADAM',plot=False)\n",
    "    models.append(model)\n",
    "    print('Model trained for beta value: {}'.format(beta))"
   ]
  },
  {
   "cell_type": "code",
   "execution_count": 204,
   "metadata": {},
   "outputs": [
    {
     "name": "stdout",
     "output_type": "stream",
     "text": [
      "Accuracy Score - Beta=0.7: 0.9705685618729097\n",
      "Accuracy Score - Beta=0.9: 0.9711036789297659\n",
      "Accuracy Score - Beta=0.99: 0.971438127090301\n",
      "Accuracy Score - Beta=0.999: 0.9712374581939799\n"
     ]
    }
   ],
   "source": [
    "# Comparing Accuracies\n",
    "for i in range(len(beta_vals)):\n",
    "    beta = beta_vals[i]\n",
    "    model = models[i]\n",
    "    pred = model.predict(X_test)\n",
    "    print(\"Accuracy Score - Beta={}: {}\".format(beta,accuracy_score(y_test,pred)))"
   ]
  },
  {
   "cell_type": "markdown",
   "metadata": {},
   "source": [
    "In this case, best model is reached for $\\beta=0.9$."
   ]
  },
  {
   "cell_type": "code",
   "execution_count": 205,
   "metadata": {},
   "outputs": [],
   "source": [
    "best_beta = .9"
   ]
  },
  {
   "cell_type": "markdown",
   "metadata": {},
   "source": [
    "## Evaluating Best Model"
   ]
  },
  {
   "cell_type": "code",
   "execution_count": 206,
   "metadata": {},
   "outputs": [],
   "source": [
    "best_model = StochasticLogisticRegression(best_alpha)"
   ]
  },
  {
   "cell_type": "code",
   "execution_count": 219,
   "metadata": {},
   "outputs": [
    {
     "data": {
      "image/png": "[encoded data removed]",
      "text/plain": [
       "<Figure size 432x288 with 1 Axes>"
      ]
     },
     "metadata": {
      "needs_background": "light"
     },
     "output_type": "display_data"
    }
   ],
   "source": [
    "best_model.fit(X_train,y_train,lr=best_lr,bsize=best_bsize,gamma=best_gamma,beta=best_beta)"
   ]
  },
  {
   "cell_type": "code",
   "execution_count": 220,
   "metadata": {},
   "outputs": [],
   "source": [
    "best_pred = best_model.predict(X_test)"
   ]
  },
  {
   "cell_type": "code",
   "execution_count": 222,
   "metadata": {},
   "outputs": [
    {
     "name": "stdout",
     "output_type": "stream",
     "text": [
      "Best Accuracy: 0.9711036789297659\n"
     ]
    }
   ],
   "source": [
    "print(\"Best Accuracy: {}\".format(accuracy_score(y_test,best_pred)))"
   ]
  },
  {
   "cell_type": "code",
   "execution_count": 223,
   "metadata": {},
   "outputs": [
    {
     "data": {
      "image/png": "[encoded data removed]",
      "text/plain": [
       "<Figure size 432x288 with 2 Axes>"
      ]
     },
     "metadata": {
      "needs_background": "light"
     },
     "output_type": "display_data"
    }
   ],
   "source": [
    "plt.figure(figsize=(6,4))\n",
    "plt.title('Best Model - Confusion Matrix',fontsize=15)\n",
    "sns.heatmap(confusion_matrix(y_test,best_pred), annot=True, fmt='d', cbar=True, xticklabels=[-1,1], yticklabels=[-1,1])\n",
    "plt.xlabel('Prediction')\n",
    "plt.ylabel('Ground Truth')\n",
    "plt.show()"
   ]
  },
  {
   "cell_type": "markdown",
   "metadata": {},
   "source": [
    "Comparing to state of the art, sklearn results, our model is slighty less performing. It is quite difficult to interpret these results because the dataset is quite unbalanced. Indeed, our training dataset contains 48269 -1 values compared to only 1479 1 values. \\\n",
    "If this dataset corresponded to the results of medical tests, the prediction would be extremely unsatisfying. Indeed, model predicts 414 False Negatives for only 40 True Positives:\n",
    "$$ Sensitivity=\\frac{TruePositives}{TruePositives + FalseNegatives}=0.088 $$ \\\n",
    "This result is extremely low. As a matter of comparison, covid antigene tests have a sensitivity of 66-74% and PCR tests of 100%."
   ]
  },
  {
   "cell_type": "code",
   "execution_count": null,
   "metadata": {},
   "outputs": [],
   "source": []
  }
 ],
 "metadata": {
  "anaconda-cloud": {},
  "kernelspec": {
   "display_name": "Python 3",
   "language": "python",
   "name": "python3"
  },
  "language_info": {
   "codemirror_mode": {
    "name": "ipython",
    "version": 3
   },
   "file_extension": ".py",
   "mimetype": "text/x-python",
   "name": "python",
   "nbconvert_exporter": "python",
   "pygments_lexer": "ipython3",
   "version": "3.6.8"
  }
 },
 "nbformat": 4,
 "nbformat_minor": 1
}
