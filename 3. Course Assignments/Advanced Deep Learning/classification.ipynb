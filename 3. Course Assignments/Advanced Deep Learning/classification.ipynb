{
 "cells": [
  {
   "cell_type": "markdown",
   "metadata": {
    "id": "CjlggkD_HyMi"
   },
   "source": [
    "## Multi-classification problem\n",
    "\n",
    "__Note:__ you might need to do\n",
    "`conda install torchvision \"pillow<7\"`\n",
    "if torchvision is not already installed on your computer, and/or for compatibility issues (the version of torchvision version supporting the last version of Pillow is not released yet)."
   ]
  },
  {
   "cell_type": "code",
   "execution_count": 34,
   "metadata": {
    "id": "QsA3AL6-HyMk"
   },
   "outputs": [],
   "source": [
    "import torch\n",
    "import torch.nn as nn\n",
    "import torch.nn.functional as F\n",
    "import torchvision\n",
    "import torchvision.transforms as transforms\n",
    "from torch.utils.data import DataLoader, random_split\n",
    "import requests\n",
    "import os\n",
    "\n",
    "\n",
    "import matplotlib.pyplot as plt\n",
    "\n",
    "%matplotlib inline"
   ]
  },
  {
   "cell_type": "markdown",
   "metadata": {
    "id": "o-ot1pp8HyMk"
   },
   "source": [
    "## Load Data\n",
    "\n",
    "PyTorch provides two powerful data primitives: `torch.utils.data.DataLoader` and `torch.utils.data.Dataset` that allow you to use pre-loaded datasets as well as prepare your own data. `Dataset` stores the samples and their corresponding labels, and `DataLoader` wraps an iterable around the Dataset to enable easy access to the samples.\n",
    "\n",
    "### USPS Dataset\n",
    "* Handwritten digits with 10 classes\n",
    "* 16x16 pixels for each image \n",
    "* 6 000 data examples in training set, 1 291 examples in validation set, 2 007 in test set"
   ]
  },
  {
   "cell_type": "code",
   "execution_count": 35,
   "metadata": {
    "colab": {
     "base_uri": "https://localhost:8080/"
    },
    "id": "ZZ4B6humHyMl",
    "outputId": "51513be0-498b-4bc8-8853-e9bdc366c8bd"
   },
   "outputs": [
    {
     "data": {
      "text/plain": [
       "6579383"
      ]
     },
     "execution_count": 35,
     "metadata": {},
     "output_type": "execute_result"
    }
   ],
   "source": [
    "url = 'https://www.csie.ntu.edu.tw/~cjlin/libsvmtools/datasets/multiclass/usps.bz2'\n",
    "r = requests.get(url, allow_redirects=True)\n",
    "if not os.path.isdir('USPS/'):\n",
    "    os.mkdir('USPS/')\n",
    "open('USPS/usps.bz2', 'wb').write(r.content)"
   ]
  },
  {
   "cell_type": "code",
   "execution_count": 36,
   "metadata": {
    "id": "JurGOEZOHyMm"
   },
   "outputs": [],
   "source": [
    "# Loading USPS dataset from torchvision.dataset\n",
    "dataset = torchvision.datasets.USPS(root='USPS/',\n",
    "                                           train=True, \n",
    "                                           transform=transforms.ToTensor(),\n",
    "                                           download=False)"
   ]
  },
  {
   "cell_type": "code",
   "execution_count": 37,
   "metadata": {
    "colab": {
     "base_uri": "https://localhost:8080/"
    },
    "id": "o-M_JhB4HyMm",
    "outputId": "e57c53b9-9389-4e45-cff2-3b822429eb6c"
   },
   "outputs": [
    {
     "data": {
      "text/plain": [
       "Dataset USPS\n",
       "    Number of datapoints: 7291\n",
       "    Root location: USPS/\n",
       "    StandardTransform\n",
       "Transform: ToTensor()"
      ]
     },
     "execution_count": 37,
     "metadata": {},
     "output_type": "execute_result"
    }
   ],
   "source": [
    "# Get info from dataset\n",
    "dataset"
   ]
  },
  {
   "cell_type": "code",
   "execution_count": 38,
   "metadata": {
    "id": "fW9ngzHbHyMm"
   },
   "outputs": [],
   "source": [
    "# Obtain the inputs and targets:\n",
    "inputs = dataset.data\n",
    "targets = dataset.targets"
   ]
  },
  {
   "cell_type": "code",
   "execution_count": 39,
   "metadata": {
    "id": "1aYEWOoDHyMm"
   },
   "outputs": [],
   "source": [
    "# split the dataset to training and validation sets\n",
    "train_set, val_set = random_split(dataset, [6000, 1291])"
   ]
  },
  {
   "cell_type": "code",
   "execution_count": 40,
   "metadata": {
    "colab": {
     "base_uri": "https://localhost:8080/",
     "height": 300
    },
    "id": "21j2gF2BHyMm",
    "outputId": "cea224c1-7f67-4ae8-9bb7-727d20fd20f1"
   },
   "outputs": [
    {
     "data": {
      "text/plain": [
       "Text(0.5, 1.0, 'image label: 7')"
      ]
     },
     "execution_count": 40,
     "metadata": {},
     "output_type": "execute_result"
    },
    {
     "data": {
      "image/png": "[encoded data removed]",
      "text/plain": [
       "<Figure size 432x288 with 1 Axes>"
      ]
     },
     "metadata": {
      "needs_background": "light"
     },
     "output_type": "display_data"
    }
   ],
   "source": [
    "sample_index = 90\n",
    "plt.imshow(dataset.data[sample_index], cmap=plt.cm.gray_r, interpolation='nearest')\n",
    "plt.title(\"image label: %d\" % dataset.targets[sample_index])"
   ]
  },
  {
   "cell_type": "code",
   "execution_count": 41,
   "metadata": {
    "colab": {
     "base_uri": "https://localhost:8080/"
    },
    "id": "5UMoG1Z1HyMn",
    "outputId": "b132671d-8d94-4221-cc09-eee8672b99bd"
   },
   "outputs": [
    {
     "name": "stdout",
     "output_type": "stream",
     "text": [
      "torch.Size([1, 16, 16])\n",
      "7\n"
     ]
    }
   ],
   "source": [
    "img, label = dataset[90]\n",
    "print(img.shape)\n",
    "print(label)"
   ]
  },
  {
   "cell_type": "code",
   "execution_count": 42,
   "metadata": {
    "colab": {
     "base_uri": "https://localhost:8080/"
    },
    "id": "-xLBlzu0HyMo",
    "outputId": "fde57111-b102-4a6e-c0de-b6d468ad569f"
   },
   "outputs": [
    {
     "data": {
      "text/plain": [
       "torch.Size([1, 1, 16, 16])"
      ]
     },
     "execution_count": 42,
     "metadata": {},
     "output_type": "execute_result"
    }
   ],
   "source": [
    "img.unsqueeze(0).shape"
   ]
  },
  {
   "cell_type": "markdown",
   "metadata": {
    "id": "HfNlvbTIHyMo"
   },
   "source": [
    "## Build your Neural Network\n",
    "The `torch.nn` namespace provides all the building blocks you need to create your own neural network such as fully connected layers or convolutional layers etc. We define our neural network by subclassing `nn.Module`, and the neural network layers are initialized in **\\__init\\__**. Every `nn.Module` subclass implements the operations on input data in the **forward** method."
   ]
  },
  {
   "cell_type": "code",
   "execution_count": 43,
   "metadata": {
    "id": "jdi4owBvHyMo"
   },
   "outputs": [],
   "source": [
    "class Model(nn.Module):\n",
    "    \n",
    "    def __init__(self):\n",
    "        super(Model, self).__init__()\n",
    "        \n",
    "        self.l1 = nn.Linear(16*16, 100)\n",
    "        self.l2 = nn.Linear(100, 10)\n",
    "        # Input size is 16*16, output size should be the same with the number of classes\n",
    "        \n",
    "    def forward(self, inputs):\n",
    "        h = F.relu(self.l1(inputs))\n",
    "        outputs = F.softmax(self.l2(h), dim=1)# Use softmax as the activation function for the last layer\n",
    "        return outputs"
   ]
  },
  {
   "cell_type": "markdown",
   "metadata": {
    "id": "fP0GtMY_HyMp"
   },
   "source": [
    "## Train your Model"
   ]
  },
  {
   "cell_type": "code",
   "execution_count": 44,
   "metadata": {
    "id": "jC-f8gxSHyMp"
   },
   "outputs": [],
   "source": [
    "# Create the model: \n",
    "model = Model()\n",
    "\n",
    "# Choose the hyperparameters for training: \n",
    "num_epochs = 10\n",
    "batch_size = 10\n",
    "\n",
    "# Use mean squared loss function \n",
    "criterion = nn.MSELoss()\n",
    "\n",
    "# Use SGD optimizer with a learning rate of 0.01\n",
    "# It is initialized on our model\n",
    "optimizer = torch.optim.SGD(model.parameters(), lr=0.1)"
   ]
  },
  {
   "cell_type": "code",
   "execution_count": 45,
   "metadata": {
    "id": "IycZjzYNHyMp"
   },
   "outputs": [],
   "source": [
    "# define a function for training\n",
    "def train(num_epochs, batch_size, criterion, optimizer, model, dataset):\n",
    "    train_error = []\n",
    "    train_loader = DataLoader(dataset, batch_size, shuffle=True)\n",
    "    model.train()\n",
    "    for epoch in range(num_epochs):\n",
    "        epoch_average_loss = 0.0\n",
    "        for (images, labels) in train_loader:\n",
    "            y_pre = model(images.view(batch_size, -1)) \n",
    "            #reshape the inputs from [N, img_shape, img_shape] to [N, img_shape*img_shape] \n",
    "            \n",
    "            # One-hot encoding or labels so as to calculate MSE error:\n",
    "            labels_one_hot = torch.FloatTensor(batch_size, 10)\n",
    "            labels_one_hot.zero_()\n",
    "            labels_one_hot.scatter_(1, labels.view(-1, 1), 1)\n",
    "           \n",
    "            \n",
    "            loss = criterion(y_pre, labels_one_hot)\n",
    "            optimizer.zero_grad()\n",
    "            loss.backward()\n",
    "            optimizer.step()\n",
    "            epoch_average_loss += loss.item() * batch_size / len(dataset)\n",
    "        train_error.append(epoch_average_loss)\n",
    "        print('Epoch [{}/{}], Loss: {:.4f}'\n",
    "                      .format(epoch+1, num_epochs, epoch_average_loss))\n",
    "    plt.plot(range(1, num_epochs+1), train_error)\n",
    "    plt.xlabel(\"num_epochs\")\n",
    "    plt.ylabel(\"Train error\")\n",
    "    plt.title(\"Visualization of convergence\")\n",
    "    return train_error"
   ]
  },
  {
   "cell_type": "code",
   "execution_count": 46,
   "metadata": {
    "colab": {
     "base_uri": "https://localhost:8080/",
     "height": 480
    },
    "id": "juzfiw3DHyMq",
    "outputId": "71c3a69d-1dc0-4967-887b-64518cf3f61a"
   },
   "outputs": [
    {
     "name": "stdout",
     "output_type": "stream",
     "text": [
      "Epoch [1/10], Loss: 0.0850\n",
      "Epoch [2/10], Loss: 0.0707\n",
      "Epoch [3/10], Loss: 0.0576\n",
      "Epoch [4/10], Loss: 0.0451\n",
      "Epoch [5/10], Loss: 0.0345\n",
      "Epoch [6/10], Loss: 0.0265\n",
      "Epoch [7/10], Loss: 0.0211\n",
      "Epoch [8/10], Loss: 0.0177\n",
      "Epoch [9/10], Loss: 0.0156\n",
      "Epoch [10/10], Loss: 0.0140\n"
     ]
    },
    {
     "data": {
      "image/png": "[encoded data removed]",
      "text/plain": [
       "<Figure size 432x288 with 1 Axes>"
      ]
     },
     "metadata": {
      "needs_background": "light"
     },
     "output_type": "display_data"
    }
   ],
   "source": [
    "train_error = train(num_epochs, batch_size, criterion, optimizer, model, train_set)"
   ]
  },
  {
   "cell_type": "markdown",
   "metadata": {
    "id": "lFJf0L1CHyMq"
   },
   "source": [
    "### Evaluate the Model on validation set"
   ]
  },
  {
   "cell_type": "code",
   "execution_count": 48,
   "metadata": {
    "id": "urS4IlTcHyMq"
   },
   "outputs": [],
   "source": [
    "# Calculate the accuracy to evaluate the model\n",
    "def accuracy(dataset, model):\n",
    "\n",
    "    with torch.no_grad():\n",
    "        correct = 0\n",
    "        total = 0\n",
    "        dataloader = DataLoader(dataset)\n",
    "        for images, labels in dataloader:\n",
    "            images = images.view(-1, 16*16)\n",
    "            outputs = model(images)\n",
    "            _, predicted = torch.max(outputs.data, 1) \n",
    "            correct += (predicted == labels).sum()\n",
    "\n",
    "    print('Accuracy of the model : {:.2f} %'.format(100*correct.item()/ len(dataset)))\n",
    "    return format(100*correct.item()/ len(dataset))"
   ]
  },
  {
   "cell_type": "code",
   "execution_count": 49,
   "metadata": {
    "colab": {
     "base_uri": "https://localhost:8080/",
     "height": 54
    },
    "id": "iLBGh_5oHyMr",
    "outputId": "fd81a4fe-effa-420a-ce36-7875dc5f9977"
   },
   "outputs": [
    {
     "name": "stdout",
     "output_type": "stream",
     "text": [
      "Accuracy of the model : 91.71 %\n"
     ]
    },
    {
     "data": {
      "application/vnd.google.colaboratory.intrinsic+json": {
       "type": "string"
      },
      "text/plain": [
       "'91.71185127807901'"
      ]
     },
     "execution_count": 49,
     "metadata": {},
     "output_type": "execute_result"
    }
   ],
   "source": [
    "accuracy(val_set, model)"
   ]
  },
  {
   "cell_type": "code",
   "execution_count": 50,
   "metadata": {
    "colab": {
     "base_uri": "https://localhost:8080/",
     "height": 300
    },
    "id": "u_Om8CewHyMr",
    "outputId": "ba6079ed-9190-4053-edde-8cf42c564ea4"
   },
   "outputs": [
    {
     "data": {
      "text/plain": [
       "Text(0.5, 1.0, 'Prediction label: 0')"
      ]
     },
     "execution_count": 50,
     "metadata": {},
     "output_type": "execute_result"
    },
    {
     "data": {
      "image/png": "[encoded data removed]",
      "text/plain": [
       "<Figure size 432x288 with 1 Axes>"
      ]
     },
     "metadata": {
      "needs_background": "light"
     },
     "output_type": "display_data"
    }
   ],
   "source": [
    "val_index = 66\n",
    "\n",
    "(image, label) = val_set[val_index]\n",
    "output = model(image.view(-1, 16*16))\n",
    "_, prediction = torch.max(output.data, 1)\n",
    "\n",
    "plt.imshow(image.view(16, 16), cmap=plt.cm.gray_r, interpolation='nearest')\n",
    "plt.title(\"Prediction label: %d\" % prediction)"
   ]
  },
  {
   "cell_type": "markdown",
   "metadata": {
    "id": "_wvqgFEzHyMr"
   },
   "source": [
    "### Exercise 1: Impact of the architecture of the model\n",
    "Define your own class `Model` to improve the predictions:\n",
    "\n",
    "* The convolutional layer can be a good choice to deal with images. Replace nn.Linear with [nn.Conv2d](https://pytorch.org/docs/stable/nn.html#conv2d).\n",
    "* Try to add more layers (1, 2, 3, more ?)\n",
    "* Change the number of neurons in hidden layers (5, 10, 20, more ?)\n",
    "* Try different activation functions such as [sigmoid](https://pytorch.org/docs/stable/nn.functional.html#torch.nn.functional.sigmoid), [tanh](https://pytorch.org/docs/stable/nn.functional.html#torch.nn.functional.tanh), [relu](https://pytorch.org/docs/stable/nn.functional.html#torch.nn.functional.relu), etc."
   ]
  },
  {
   "cell_type": "code",
   "execution_count": 51,
   "metadata": {
    "id": "LP8HBOk1HyMr"
   },
   "outputs": [],
   "source": [
    "class ConvNet(nn.Module):\n",
    "\n",
    "    def __init__(self):\n",
    "        super(ConvNet, self).__init__()\n",
    "        self.c1 = nn.Conv2d(in_channels = 1, out_channels = 16, kernel_size = 3, padding = 1)\n",
    "        self.r1 = nn.ReLU()\n",
    "        self.p1 = nn.MaxPool2d(kernel_size = 2, stride = 2)\n",
    "        self.c2 = nn.Conv2d(in_channels = 16, out_channels = 32, kernel_size = 3, padding = 1)\n",
    "        self.r2 = nn.ReLU()\n",
    "        self.p2 = nn.MaxPool2d(kernel_size = 2, stride = 2)\n",
    "        self.c3 = nn.Conv2d(in_channels = 32, out_channels = 64, kernel_size = 3, padding = 1)\n",
    "        self.r3 = nn.ReLU()\n",
    "        self.p3 = nn.MaxPool2d(kernel_size = 2, stride = 2)\n",
    "        self.fc1 = nn.Linear(64*2*2, 10)\n",
    "\n",
    "    def forward(self, inputs):\n",
    "        x = self.p1(self.r1(self.c1(inputs)))\n",
    "        x = self.p2(self.r2(self.c2(x)))\n",
    "        x = self.p3(self.r3(self.c3(x)))\n",
    "        #flatten the output of conv2d to linear :(batch_size, 32 * 4 * 4)\n",
    "        # x = x.view(-1, 720)\n",
    "        x = x.view(x.size(0), -1)\n",
    "        output = F.softmax(self.fc1(x), dim=1)# Use softmax as the activation function for the last layer\n",
    "        # output = self.fc1(x)\n",
    "        return output"
   ]
  },
  {
   "cell_type": "code",
   "execution_count": 52,
   "metadata": {
    "id": "DPPKyEOUHyMs"
   },
   "outputs": [],
   "source": [
    "# define a function for training\n",
    "def train_conv(num_epochs, batch_size, criterion, optimizer, model, dataset):\n",
    "    train_error = []\n",
    "    train_loader = DataLoader(dataset, batch_size, shuffle=True)\n",
    "    model.train()\n",
    "    for epoch in range(num_epochs):\n",
    "        epoch_average_loss = 0.0\n",
    "        for (images, labels) in train_loader:\n",
    "            y_pre = model(images) #reshape the inputs from [N, img_shape, img_shape] to [N, C, img_shape, img_shape] mandatory for convolution \n",
    "            \n",
    "            # One-hot encoding or labels so as to calculate MSE error:\n",
    "            labels_one_hot = torch.FloatTensor(batch_size, 10)\n",
    "            labels_one_hot.zero_()\n",
    "            labels_one_hot.scatter_(1, labels.view(-1, 1), 1)\n",
    "           \n",
    "            \n",
    "            loss = criterion(y_pre, labels_one_hot)\n",
    "\n",
    "            optimizer.zero_grad()\n",
    "            loss.backward()\n",
    "            optimizer.step()\n",
    "            epoch_average_loss += loss.item() * batch_size / len(dataset)\n",
    "        train_error.append(epoch_average_loss)\n",
    "        print('Epoch [{}/{}], Loss: {:.4f}'\n",
    "                      .format(epoch+1, num_epochs, epoch_average_loss))\n",
    "    \n",
    "    plt.plot(range(1, num_epochs+1), train_error)\n",
    "    plt.xlabel(\"num_epochs\")\n",
    "    plt.ylabel(\"Train error\")\n",
    "    plt.title(\"Visualization of convergence\")\n",
    "    return train_error"
   ]
  },
  {
   "cell_type": "code",
   "execution_count": 53,
   "metadata": {
    "colab": {
     "base_uri": "https://localhost:8080/",
     "height": 480
    },
    "id": "e8VXOJHXHyMs",
    "outputId": "35a487dd-bc34-4cdc-bbe8-820900b33b51"
   },
   "outputs": [
    {
     "name": "stdout",
     "output_type": "stream",
     "text": [
      "Epoch [1/10], Loss: 0.0886\n",
      "Epoch [2/10], Loss: 0.0517\n",
      "Epoch [3/10], Loss: 0.0170\n",
      "Epoch [4/10], Loss: 0.0106\n",
      "Epoch [5/10], Loss: 0.0084\n",
      "Epoch [6/10], Loss: 0.0068\n",
      "Epoch [7/10], Loss: 0.0062\n",
      "Epoch [8/10], Loss: 0.0051\n",
      "Epoch [9/10], Loss: 0.0047\n",
      "Epoch [10/10], Loss: 0.0046\n"
     ]
    },
    {
     "data": {
      "image/png": "[encoded data removed]",
      "text/plain": [
       "<Figure size 432x288 with 1 Axes>"
      ]
     },
     "metadata": {
      "needs_background": "light"
     },
     "output_type": "display_data"
    }
   ],
   "source": [
    "# Create the model: \n",
    "model = ConvNet()\n",
    "\n",
    "# Choose the hyperparameters for training: \n",
    "num_epochs = 10\n",
    "batch_size = 3\n",
    "\n",
    "# Use mean squared loss function \n",
    "criterion = nn.MSELoss()\n",
    "\n",
    "# Use SGD optimizer with a learning rate of 0.01\n",
    "# It is initialized on our model\n",
    "optimizer = torch.optim.SGD(model.parameters(), lr=0.1)\n",
    "\n",
    "train_error_conv = train_conv(num_epochs, batch_size, criterion, optimizer, model, train_set)"
   ]
  },
  {
   "cell_type": "code",
   "execution_count": 54,
   "metadata": {
    "id": "2hmmF5TPHyMs"
   },
   "outputs": [],
   "source": [
    "# Calculate the accuracy to evaluate the model\n",
    "def accuracy_conv(dataset, model):\n",
    "\n",
    "    with torch.no_grad():\n",
    "        correct = 0\n",
    "        total = 0\n",
    "        dataloader = DataLoader(dataset)\n",
    "        for images, labels in dataloader:\n",
    "            images = images\n",
    "            outputs = model(images)\n",
    "            _, predicted = torch.max(outputs.data, 1) \n",
    "            correct += (predicted == labels).sum()\n",
    "\n",
    "    print('Accuracy of the model : {:.2f} %'.format(100*correct.item()/ len(dataset)))\n",
    "    return format(100*correct.item()/ len(dataset))"
   ]
  },
  {
   "cell_type": "code",
   "execution_count": 55,
   "metadata": {
    "colab": {
     "base_uri": "https://localhost:8080/",
     "height": 54
    },
    "id": "1bigmZ1zHyMs",
    "outputId": "2acaa684-6627-4559-d438-11e442946c95"
   },
   "outputs": [
    {
     "name": "stdout",
     "output_type": "stream",
     "text": [
      "Accuracy of the model : 96.75 %\n"
     ]
    },
    {
     "data": {
      "application/vnd.google.colaboratory.intrinsic+json": {
       "type": "string"
      },
      "text/plain": [
       "'96.74670797831139'"
      ]
     },
     "execution_count": 55,
     "metadata": {},
     "output_type": "execute_result"
    }
   ],
   "source": [
    "accuracy_conv(val_set, model)"
   ]
  },
  {
   "cell_type": "markdown",
   "metadata": {
    "id": "SOhAi0aQHyMt"
   },
   "source": [
    "### Exercise 2: Impact of the optimizer\n",
    "Retrain the model by using different parameters of the optimizer; you can change its parameters in the cell initializing it, after the definition of your model.\n",
    "\n",
    "* Use different batch sizes, from 10 to 1 000 for instance\n",
    "* Try different values of the learning rate (between 0.001 and 10), and see how these impact the training process. Do all network architectures react the same way to different learning rates?\n",
    "* Change the duration of the training by increasing the number of epochs\n",
    "* Try other optimizers, such as [Adam](https://pytorch.org/docs/stable/optim.html?highlight=adam#torch.optim.Adam) or [RMSprop](https://pytorch.org/docs/stable/optim.html?highlight=rmsprop#torch.optim.RMSprop)"
   ]
  },
  {
   "cell_type": "markdown",
   "metadata": {
    "id": "i31L2BrQHyMt"
   },
   "source": [
    "##### Try different batch_size"
   ]
  },
  {
   "cell_type": "code",
   "execution_count": 56,
   "metadata": {
    "colab": {
     "base_uri": "https://localhost:8080/",
     "height": 1000
    },
    "id": "wpKAvCjiHyMt",
    "outputId": "211234a9-8883-49a0-c0d1-bae16d3e8d05"
   },
   "outputs": [
    {
     "name": "stdout",
     "output_type": "stream",
     "text": [
      "Epoch [1/10], Loss: 0.0825\n",
      "Epoch [2/10], Loss: 0.0248\n",
      "Epoch [3/10], Loss: 0.0104\n",
      "Epoch [4/10], Loss: 0.0075\n",
      "Epoch [5/10], Loss: 0.0060\n",
      "Epoch [6/10], Loss: 0.0047\n",
      "Epoch [7/10], Loss: 0.0045\n",
      "Epoch [8/10], Loss: 0.0037\n",
      "Epoch [9/10], Loss: 0.0031\n",
      "Epoch [10/10], Loss: 0.0029\n",
      "Accuracy of the model : 98.22 %\n",
      "Epoch [1/10], Loss: 0.0880\n",
      "Epoch [2/10], Loss: 0.0523\n",
      "Epoch [3/10], Loss: 0.0179\n",
      "Epoch [4/10], Loss: 0.0113\n",
      "Epoch [5/10], Loss: 0.0092\n",
      "Epoch [6/10], Loss: 0.0079\n",
      "Epoch [7/10], Loss: 0.0068\n",
      "Epoch [8/10], Loss: 0.0061\n",
      "Epoch [9/10], Loss: 0.0053\n",
      "Epoch [10/10], Loss: 0.0047\n",
      "Accuracy of the model : 96.20 %\n",
      "Epoch [1/10], Loss: 0.0897\n",
      "Epoch [2/10], Loss: 0.0885\n",
      "Epoch [3/10], Loss: 0.0806\n",
      "Epoch [4/10], Loss: 0.0536\n",
      "Epoch [5/10], Loss: 0.0258\n",
      "Epoch [6/10], Loss: 0.0169\n",
      "Epoch [7/10], Loss: 0.0131\n",
      "Epoch [8/10], Loss: 0.0107\n",
      "Epoch [9/10], Loss: 0.0092\n",
      "Epoch [10/10], Loss: 0.0081\n",
      "Accuracy of the model : 95.43 %\n",
      "Epoch [1/10], Loss: 0.0894\n",
      "Epoch [2/10], Loss: 0.0876\n",
      "Epoch [3/10], Loss: 0.0780\n",
      "Epoch [4/10], Loss: 0.0456\n",
      "Epoch [5/10], Loss: 0.0218\n",
      "Epoch [6/10], Loss: 0.0153\n",
      "Epoch [7/10], Loss: 0.0121\n",
      "Epoch [8/10], Loss: 0.0107\n",
      "Epoch [9/10], Loss: 0.0093\n",
      "Epoch [10/10], Loss: 0.0084\n",
      "Accuracy of the model : 95.12 %\n",
      "Epoch [1/10], Loss: 0.0898\n",
      "Epoch [2/10], Loss: 0.0895\n",
      "Epoch [3/10], Loss: 0.0890\n",
      "Epoch [4/10], Loss: 0.0883\n",
      "Epoch [5/10], Loss: 0.0876\n",
      "Epoch [6/10], Loss: 0.0863\n",
      "Epoch [7/10], Loss: 0.0834\n",
      "Epoch [8/10], Loss: 0.0753\n",
      "Epoch [9/10], Loss: 0.0557\n",
      "Epoch [10/10], Loss: 0.0353\n",
      "Accuracy of the model : 85.21 %\n",
      "Epoch [1/10], Loss: 0.0899\n",
      "Epoch [2/10], Loss: 0.0897\n",
      "Epoch [3/10], Loss: 0.0896\n",
      "Epoch [4/10], Loss: 0.0894\n",
      "Epoch [5/10], Loss: 0.0891\n",
      "Epoch [6/10], Loss: 0.0888\n",
      "Epoch [7/10], Loss: 0.0884\n",
      "Epoch [8/10], Loss: 0.0880\n",
      "Epoch [9/10], Loss: 0.0875\n",
      "Epoch [10/10], Loss: 0.0868\n",
      "Accuracy of the model : 16.65 %\n",
      "Epoch [1/10], Loss: 0.0901\n",
      "Epoch [2/10], Loss: 0.0900\n",
      "Epoch [3/10], Loss: 0.0900\n",
      "Epoch [4/10], Loss: 0.0899\n",
      "Epoch [5/10], Loss: 0.0899\n",
      "Epoch [6/10], Loss: 0.0898\n",
      "Epoch [7/10], Loss: 0.0898\n",
      "Epoch [8/10], Loss: 0.0897\n",
      "Epoch [9/10], Loss: 0.0896\n",
      "Epoch [10/10], Loss: 0.0896\n",
      "Accuracy of the model : 16.65 %\n"
     ]
    },
    {
     "data": {
      "image/png": "[encoded data removed]",
      "text/plain": [
       "<Figure size 432x288 with 1 Axes>"
      ]
     },
     "metadata": {
      "needs_background": "light"
     },
     "output_type": "display_data"
    }
   ],
   "source": [
    "# Choose the hyperparameters for training: \n",
    "num_epochs = 10\n",
    "batch_size = [2, 4, 8, 10, 20, 50, 100]\n",
    "\n",
    "# Use mean squared loss function \n",
    "criterion = nn.MSELoss()\n",
    "\n",
    "# Use SGD optimizer with a learning rate of 0.01\n",
    "# It is initialized on our model\n",
    "optimizer = torch.optim.SGD(model.parameters(), lr=0.1)\n",
    "\n",
    "#empty list to record the accuracy\n",
    "accuracy_per_batchsize = []\n",
    "\n",
    "for nbr_batchsize in batch_size:\n",
    "\n",
    "    #reset model\n",
    "    model = ConvNet()\n",
    "    # reset optimizer\n",
    "    optimizer = torch.optim.SGD(model.parameters(), lr=0.1)\n",
    "\n",
    "    train_error_conv = train_conv(num_epochs, nbr_batchsize, criterion, optimizer, model, train_set)\n",
    "    accuracy_per_batchsize.append(float(accuracy_conv(val_set, model)))"
   ]
  },
  {
   "cell_type": "code",
   "execution_count": 57,
   "metadata": {
    "colab": {
     "base_uri": "https://localhost:8080/"
    },
    "id": "E525AKLsHyMt",
    "outputId": "ad29feb9-47b7-4e5a-e7a9-e8e9ee522156"
   },
   "outputs": [
    {
     "data": {
      "text/plain": [
       "[98.21843532145624,\n",
       " 96.20449264136329,\n",
       " 95.42989930286599,\n",
       " 95.12006196746708,\n",
       " 85.20526723470178,\n",
       " 16.65375677769171,\n",
       " 16.65375677769171]"
      ]
     },
     "execution_count": 57,
     "metadata": {},
     "output_type": "execute_result"
    }
   ],
   "source": [
    "accuracy_per_batchsize"
   ]
  },
  {
   "cell_type": "code",
   "execution_count": 58,
   "metadata": {
    "colab": {
     "base_uri": "https://localhost:8080/",
     "height": 313
    },
    "id": "jMvLApb-HyMt",
    "outputId": "1fbbe4d2-a782-4010-ac57-a20ad4071c9f"
   },
   "outputs": [
    {
     "data": {
      "text/plain": [
       "Text(0.5, 1.0, 'Accuracy per batchsize')"
      ]
     },
     "execution_count": 58,
     "metadata": {},
     "output_type": "execute_result"
    },
    {
     "data": {
      "image/png": "[encoded data removed]",
      "text/plain": [
       "<Figure size 432x288 with 1 Axes>"
      ]
     },
     "metadata": {
      "needs_background": "light"
     },
     "output_type": "display_data"
    }
   ],
   "source": [
    "#plot accuracy\n",
    "plt.plot(accuracy_per_batchsize)\n",
    "plt.xlabel(\"Model\")\n",
    "plt.ylabel(\"Accuracy\")\n",
    "plt.title(\"Accuracy per batchsize\")"
   ]
  },
  {
   "cell_type": "markdown",
   "metadata": {
    "id": "IjaBUEtLHyMt"
   },
   "source": [
    "##### Try different learning rate"
   ]
  },
  {
   "cell_type": "markdown",
   "metadata": {
    "id": "QbcwmgwPHyMu"
   },
   "source": [
    "##### Convolutional NN"
   ]
  },
  {
   "cell_type": "code",
   "execution_count": 59,
   "metadata": {
    "colab": {
     "base_uri": "https://localhost:8080/",
     "height": 1000
    },
    "id": "CPdgZ2M2HyMu",
    "outputId": "e23dcab6-61da-471e-933f-90281e6fe605"
   },
   "outputs": [
    {
     "name": "stdout",
     "output_type": "stream",
     "text": [
      "Epoch [1/10], Loss: 0.0901\n",
      "Epoch [2/10], Loss: 0.0900\n",
      "Epoch [3/10], Loss: 0.0899\n",
      "Epoch [4/10], Loss: 0.0898\n",
      "Epoch [5/10], Loss: 0.0897\n",
      "Epoch [6/10], Loss: 0.0896\n",
      "Epoch [7/10], Loss: 0.0895\n",
      "Epoch [8/10], Loss: 0.0894\n",
      "Epoch [9/10], Loss: 0.0893\n",
      "Epoch [10/10], Loss: 0.0891\n",
      "Accuracy of the model : 16.65 %\n",
      "Epoch [1/10], Loss: 0.0894\n",
      "Epoch [2/10], Loss: 0.0876\n",
      "Epoch [3/10], Loss: 0.0772\n",
      "Epoch [4/10], Loss: 0.0472\n",
      "Epoch [5/10], Loss: 0.0235\n",
      "Epoch [6/10], Loss: 0.0154\n",
      "Epoch [7/10], Loss: 0.0124\n",
      "Epoch [8/10], Loss: 0.0107\n",
      "Epoch [9/10], Loss: 0.0096\n",
      "Epoch [10/10], Loss: 0.0087\n",
      "Accuracy of the model : 94.27 %\n",
      "Epoch [1/10], Loss: 0.0501\n",
      "Epoch [2/10], Loss: 0.0104\n",
      "Epoch [3/10], Loss: 0.0066\n",
      "Epoch [4/10], Loss: 0.0050\n",
      "Epoch [5/10], Loss: 0.0042\n",
      "Epoch [6/10], Loss: 0.0033\n",
      "Epoch [7/10], Loss: 0.0028\n",
      "Epoch [8/10], Loss: 0.0025\n",
      "Epoch [9/10], Loss: 0.0021\n",
      "Epoch [10/10], Loss: 0.0019\n",
      "Accuracy of the model : 96.75 %\n",
      "Epoch [1/10], Loss: 0.1260\n",
      "Epoch [2/10], Loss: 0.1815\n",
      "Epoch [3/10], Loss: 0.1715\n",
      "Epoch [4/10], Loss: 0.1724\n",
      "Epoch [5/10], Loss: 0.1724\n",
      "Epoch [6/10], Loss: 0.1724\n",
      "Epoch [7/10], Loss: 0.1724\n",
      "Epoch [8/10], Loss: 0.1724\n",
      "Epoch [9/10], Loss: 0.1724\n",
      "Epoch [10/10], Loss: 0.1724\n",
      "Accuracy of the model : 13.79 %\n",
      "Epoch [1/10], Loss: 0.1634\n",
      "Epoch [2/10], Loss: 0.1724\n",
      "Epoch [3/10], Loss: 0.1724\n",
      "Epoch [4/10], Loss: 0.1724\n",
      "Epoch [5/10], Loss: 0.1724\n",
      "Epoch [6/10], Loss: 0.1724\n",
      "Epoch [7/10], Loss: 0.1724\n",
      "Epoch [8/10], Loss: 0.1724\n",
      "Epoch [9/10], Loss: 0.1724\n",
      "Epoch [10/10], Loss: 0.1724\n",
      "Accuracy of the model : 13.79 %\n",
      "Epoch [1/10], Loss: 0.0906\n",
      "Epoch [2/10], Loss: 0.0903\n",
      "Epoch [3/10], Loss: 0.0903\n",
      "Epoch [4/10], Loss: 0.0903\n",
      "Epoch [5/10], Loss: 0.0903\n",
      "Epoch [6/10], Loss: 0.0903\n",
      "Epoch [7/10], Loss: 0.0903\n",
      "Epoch [8/10], Loss: 0.0903\n",
      "Epoch [9/10], Loss: 0.0903\n",
      "Epoch [10/10], Loss: 0.0903\n",
      "Accuracy of the model : 13.79 %\n"
     ]
    },
    {
     "data": {
      "image/png": "[encoded data removed]",
      "text/plain": [
       "<Figure size 432x288 with 1 Axes>"
      ]
     },
     "metadata": {
      "needs_background": "light"
     },
     "output_type": "display_data"
    }
   ],
   "source": [
    "# Choose the hyperparameters for training: \n",
    "num_epochs = 10\n",
    "batch_size = 1\n",
    "\n",
    "# Use mean squared loss function \n",
    "criterion = nn.MSELoss()\n",
    "\n",
    "#different learning rate\n",
    "lr = [0.001, 0.01, 0.1, 1, 5, 10]\n",
    "\n",
    "#empty list to record the accuracy\n",
    "accuracy_per_lr_CNN = []\n",
    "\n",
    "for nbr_lr in lr:\n",
    "\n",
    "    #reset model\n",
    "    model = ConvNet()\n",
    "    # reset optimizer\n",
    "    optimizer = torch.optim.SGD(model.parameters(), lr=nbr_lr)\n",
    "\n",
    "    train_error_conv = train_conv(num_epochs, batch_size, criterion, optimizer, model, train_set)\n",
    "    accuracy_per_lr_CNN.append(float(accuracy_conv(val_set, model)))"
   ]
  },
  {
   "cell_type": "code",
   "execution_count": 60,
   "metadata": {
    "colab": {
     "base_uri": "https://localhost:8080/"
    },
    "id": "Bny57ogCHyMu",
    "outputId": "ae51957f-f9d6-4cc3-ab00-4f8cff8b0a76"
   },
   "outputs": [
    {
     "data": {
      "text/plain": [
       "[16.65375677769171,\n",
       " 94.26800929512007,\n",
       " 96.74670797831139,\n",
       " 13.787761425251743,\n",
       " 13.787761425251743,\n",
       " 13.787761425251743]"
      ]
     },
     "execution_count": 60,
     "metadata": {},
     "output_type": "execute_result"
    }
   ],
   "source": [
    "accuracy_per_lr_CNN"
   ]
  },
  {
   "cell_type": "code",
   "execution_count": 61,
   "metadata": {
    "colab": {
     "base_uri": "https://localhost:8080/",
     "height": 313
    },
    "id": "FOXSLH0QHyMv",
    "outputId": "7aa50646-068e-40c0-b714-b0e3570314b8"
   },
   "outputs": [
    {
     "data": {
      "text/plain": [
       "Text(0.5, 1.0, 'Accuracy per lr (CNN)')"
      ]
     },
     "execution_count": 61,
     "metadata": {},
     "output_type": "execute_result"
    },
    {
     "data": {
      "image/png": "[encoded data removed]",
      "text/plain": [
       "<Figure size 432x288 with 1 Axes>"
      ]
     },
     "metadata": {
      "needs_background": "light"
     },
     "output_type": "display_data"
    }
   ],
   "source": [
    "#plot accuracy\n",
    "plt.plot(accuracy_per_lr_CNN)\n",
    "plt.xlabel(\"Model\")\n",
    "plt.ylabel(\"Accuracy\")\n",
    "plt.title(\"Accuracy per lr (CNN)\")"
   ]
  },
  {
   "cell_type": "markdown",
   "metadata": {
    "id": "maIO3z7JHyMv"
   },
   "source": [
    "##### Linear NN"
   ]
  },
  {
   "cell_type": "code",
   "execution_count": 62,
   "metadata": {
    "colab": {
     "base_uri": "https://localhost:8080/",
     "height": 1000
    },
    "id": "NG8_WZiAHyMv",
    "outputId": "32330fd3-23e3-4865-fd5d-1d2da3dd673d"
   },
   "outputs": [
    {
     "name": "stdout",
     "output_type": "stream",
     "text": [
      "Epoch [1/10], Loss: 0.0900\n",
      "Epoch [2/10], Loss: 0.0892\n",
      "Epoch [3/10], Loss: 0.0884\n",
      "Epoch [4/10], Loss: 0.0873\n",
      "Epoch [5/10], Loss: 0.0860\n",
      "Epoch [6/10], Loss: 0.0845\n",
      "Epoch [7/10], Loss: 0.0832\n",
      "Epoch [8/10], Loss: 0.0819\n",
      "Epoch [9/10], Loss: 0.0808\n",
      "Epoch [10/10], Loss: 0.0797\n",
      "Accuracy of the model : 35.40 %\n",
      "Epoch [1/10], Loss: 0.0862\n",
      "Epoch [2/10], Loss: 0.0742\n",
      "Epoch [3/10], Loss: 0.0618\n",
      "Epoch [4/10], Loss: 0.0485\n",
      "Epoch [5/10], Loss: 0.0362\n",
      "Epoch [6/10], Loss: 0.0277\n",
      "Epoch [7/10], Loss: 0.0217\n",
      "Epoch [8/10], Loss: 0.0180\n",
      "Epoch [9/10], Loss: 0.0157\n",
      "Epoch [10/10], Loss: 0.0141\n",
      "Accuracy of the model : 91.48 %\n",
      "Epoch [1/10], Loss: 0.0417\n",
      "Epoch [2/10], Loss: 0.0118\n",
      "Epoch [3/10], Loss: 0.0090\n",
      "Epoch [4/10], Loss: 0.0077\n",
      "Epoch [5/10], Loss: 0.0072\n",
      "Epoch [6/10], Loss: 0.0065\n",
      "Epoch [7/10], Loss: 0.0061\n",
      "Epoch [8/10], Loss: 0.0056\n",
      "Epoch [9/10], Loss: 0.0053\n",
      "Epoch [10/10], Loss: 0.0052\n",
      "Accuracy of the model : 95.12 %\n",
      "Epoch [1/10], Loss: 0.0234\n",
      "Epoch [2/10], Loss: 0.0157\n",
      "Epoch [3/10], Loss: 0.0162\n",
      "Epoch [4/10], Loss: 0.0166\n",
      "Epoch [5/10], Loss: 0.0177\n",
      "Epoch [6/10], Loss: 0.0156\n",
      "Epoch [7/10], Loss: 0.0144\n",
      "Epoch [8/10], Loss: 0.0179\n",
      "Epoch [9/10], Loss: 0.0183\n",
      "Epoch [10/10], Loss: 0.0200\n",
      "Accuracy of the model : 91.40 %\n",
      "Epoch [1/10], Loss: 0.0651\n",
      "Epoch [2/10], Loss: 0.0537\n",
      "Epoch [3/10], Loss: 0.0456\n",
      "Epoch [4/10], Loss: 0.0476\n",
      "Epoch [5/10], Loss: 0.0458\n",
      "Epoch [6/10], Loss: 0.0466\n",
      "Epoch [7/10], Loss: 0.0467\n",
      "Epoch [8/10], Loss: 0.0433\n",
      "Epoch [9/10], Loss: 0.0421\n",
      "Epoch [10/10], Loss: 0.0447\n",
      "Accuracy of the model : 59.80 %\n",
      "Epoch [1/10], Loss: 0.0723\n",
      "Epoch [2/10], Loss: 0.0716\n",
      "Epoch [3/10], Loss: 0.0670\n",
      "Epoch [4/10], Loss: 0.0655\n",
      "Epoch [5/10], Loss: 0.0665\n",
      "Epoch [6/10], Loss: 0.0637\n",
      "Epoch [7/10], Loss: 0.0701\n",
      "Epoch [8/10], Loss: 0.0702\n",
      "Epoch [9/10], Loss: 0.0701\n",
      "Epoch [10/10], Loss: 0.0731\n",
      "Accuracy of the model : 38.03 %\n"
     ]
    },
    {
     "data": {
      "image/png": "[encoded data removed]",
      "text/plain": [
       "<Figure size 432x288 with 1 Axes>"
      ]
     },
     "metadata": {
      "needs_background": "light"
     },
     "output_type": "display_data"
    }
   ],
   "source": [
    "# Choose the hyperparameters for training: \n",
    "num_epochs = 10\n",
    "batch_size = 1\n",
    "\n",
    "# Use mean squared loss function \n",
    "criterion = nn.MSELoss()\n",
    "\n",
    "#different learning rate\n",
    "lr = [0.001, 0.01, 0.1, 1, 5, 10]\n",
    "\n",
    "#empty list to record the accuracy\n",
    "accuracy_per_lr_LNN = []\n",
    "\n",
    "for nbr_lr in lr:\n",
    "\n",
    "    #reset model\n",
    "    model = Model()\n",
    "    # reset optimizer\n",
    "    optimizer = torch.optim.SGD(model.parameters(), lr=nbr_lr)\n",
    "\n",
    "    train_error_conv = train(num_epochs, batch_size, criterion, optimizer, model, train_set)\n",
    "    accuracy_per_lr_LNN.append(float(accuracy(val_set, model)))"
   ]
  },
  {
   "cell_type": "code",
   "execution_count": 63,
   "metadata": {
    "colab": {
     "base_uri": "https://localhost:8080/"
    },
    "id": "gxECgNAYHyMv",
    "outputId": "60ece2f5-b0c9-48ee-9cef-d0d32a48c88c"
   },
   "outputs": [
    {
     "data": {
      "text/plain": [
       "[35.39891556932611,\n",
       " 91.47947327652982,\n",
       " 95.12006196746708,\n",
       " 91.4020139426801,\n",
       " 59.798605731990705,\n",
       " 38.03253292021689]"
      ]
     },
     "execution_count": 63,
     "metadata": {},
     "output_type": "execute_result"
    }
   ],
   "source": [
    "accuracy_per_lr_LNN"
   ]
  },
  {
   "cell_type": "code",
   "execution_count": 64,
   "metadata": {
    "colab": {
     "base_uri": "https://localhost:8080/",
     "height": 313
    },
    "id": "BmFoGvN2HyMv",
    "outputId": "57e3f09b-5724-4979-ab2c-50de5f73a3df"
   },
   "outputs": [
    {
     "data": {
      "text/plain": [
       "Text(0.5, 1.0, 'Accuracy per lr (LNN)')"
      ]
     },
     "execution_count": 64,
     "metadata": {},
     "output_type": "execute_result"
    },
    {
     "data": {
      "image/png": "[encoded data removed]",
      "text/plain": [
       "<Figure size 432x288 with 1 Axes>"
      ]
     },
     "metadata": {
      "needs_background": "light"
     },
     "output_type": "display_data"
    }
   ],
   "source": [
    "#plot accuracy\n",
    "\n",
    "plt.plot(accuracy_per_lr_LNN)\n",
    "plt.xlabel(\"Model\")\n",
    "plt.ylabel(\"Accuracy\")\n",
    "plt.title(\"Accuracy per lr (LNN)\")"
   ]
  },
  {
   "cell_type": "markdown",
   "metadata": {
    "id": "hT3WGQomHyMw"
   },
   "source": [
    "##### Try different epochs"
   ]
  },
  {
   "cell_type": "code",
   "execution_count": 65,
   "metadata": {
    "colab": {
     "base_uri": "https://localhost:8080/",
     "height": 1000
    },
    "id": "GJHADWKcHyMw",
    "outputId": "95b36d21-3477-4a00-8e78-9667ff3f6aec"
   },
   "outputs": [
    {
     "name": "stdout",
     "output_type": "stream",
     "text": [
      "Epoch [1/5], Loss: 0.0498\n",
      "Epoch [2/5], Loss: 0.0101\n",
      "Epoch [3/5], Loss: 0.0070\n",
      "Epoch [4/5], Loss: 0.0052\n",
      "Epoch [5/5], Loss: 0.0044\n",
      "Accuracy of the model : 97.13 %\n",
      "Epoch [1/10], Loss: 0.0472\n",
      "Epoch [2/10], Loss: 0.0105\n",
      "Epoch [3/10], Loss: 0.0075\n",
      "Epoch [4/10], Loss: 0.0054\n",
      "Epoch [5/10], Loss: 0.0043\n",
      "Epoch [6/10], Loss: 0.0036\n",
      "Epoch [7/10], Loss: 0.0032\n",
      "Epoch [8/10], Loss: 0.0026\n",
      "Epoch [9/10], Loss: 0.0021\n",
      "Epoch [10/10], Loss: 0.0018\n",
      "Accuracy of the model : 97.68 %\n",
      "Epoch [1/15], Loss: 0.0512\n",
      "Epoch [2/15], Loss: 0.0106\n",
      "Epoch [3/15], Loss: 0.0075\n",
      "Epoch [4/15], Loss: 0.0054\n",
      "Epoch [5/15], Loss: 0.0043\n",
      "Epoch [6/15], Loss: 0.0038\n",
      "Epoch [7/15], Loss: 0.0026\n",
      "Epoch [8/15], Loss: 0.0026\n",
      "Epoch [9/15], Loss: 0.0020\n",
      "Epoch [10/15], Loss: 0.0017\n",
      "Epoch [11/15], Loss: 0.0014\n",
      "Epoch [12/15], Loss: 0.0018\n",
      "Epoch [13/15], Loss: 0.0014\n",
      "Epoch [14/15], Loss: 0.0011\n",
      "Epoch [15/15], Loss: 0.0008\n",
      "Accuracy of the model : 98.22 %\n",
      "Epoch [1/20], Loss: 0.0508\n",
      "Epoch [2/20], Loss: 0.0098\n",
      "Epoch [3/20], Loss: 0.0064\n",
      "Epoch [4/20], Loss: 0.0045\n",
      "Epoch [5/20], Loss: 0.0040\n",
      "Epoch [6/20], Loss: 0.0032\n",
      "Epoch [7/20], Loss: 0.0023\n",
      "Epoch [8/20], Loss: 0.0023\n",
      "Epoch [9/20], Loss: 0.0017\n",
      "Epoch [10/20], Loss: 0.0015\n",
      "Epoch [11/20], Loss: 0.0016\n",
      "Epoch [12/20], Loss: 0.0011\n",
      "Epoch [13/20], Loss: 0.0011\n",
      "Epoch [14/20], Loss: 0.0009\n",
      "Epoch [15/20], Loss: 0.0007\n",
      "Epoch [16/20], Loss: 0.0005\n",
      "Epoch [17/20], Loss: 0.0006\n",
      "Epoch [18/20], Loss: 0.0005\n",
      "Epoch [19/20], Loss: 0.0006\n",
      "Epoch [20/20], Loss: 0.0006\n",
      "Accuracy of the model : 98.68 %\n",
      "Epoch [1/30], Loss: 0.0520\n",
      "Epoch [2/30], Loss: 0.0110\n",
      "Epoch [3/30], Loss: 0.0076\n",
      "Epoch [4/30], Loss: 0.0056\n",
      "Epoch [5/30], Loss: 0.0041\n",
      "Epoch [6/30], Loss: 0.0039\n",
      "Epoch [7/30], Loss: 0.0028\n",
      "Epoch [8/30], Loss: 0.0023\n",
      "Epoch [9/30], Loss: 0.0023\n",
      "Epoch [10/30], Loss: 0.0018\n",
      "Epoch [11/30], Loss: 0.0017\n",
      "Epoch [12/30], Loss: 0.0013\n",
      "Epoch [13/30], Loss: 0.0011\n",
      "Epoch [14/30], Loss: 0.0009\n",
      "Epoch [15/30], Loss: 0.0010\n",
      "Epoch [16/30], Loss: 0.0010\n",
      "Epoch [17/30], Loss: 0.0009\n",
      "Epoch [18/30], Loss: 0.0009\n",
      "Epoch [19/30], Loss: 0.0008\n",
      "Epoch [20/30], Loss: 0.0006\n",
      "Epoch [21/30], Loss: 0.0005\n",
      "Epoch [22/30], Loss: 0.0004\n",
      "Epoch [23/30], Loss: 0.0005\n",
      "Epoch [24/30], Loss: 0.0004\n",
      "Epoch [25/30], Loss: 0.0004\n",
      "Epoch [26/30], Loss: 0.0004\n",
      "Epoch [27/30], Loss: 0.0004\n",
      "Epoch [28/30], Loss: 0.0003\n",
      "Epoch [29/30], Loss: 0.0003\n",
      "Epoch [30/30], Loss: 0.0003\n",
      "Accuracy of the model : 98.45 %\n"
     ]
    },
    {
     "data": {
      "image/png": "[encoded data removed]",
      "text/plain": [
       "<Figure size 432x288 with 1 Axes>"
      ]
     },
     "metadata": {
      "needs_background": "light"
     },
     "output_type": "display_data"
    }
   ],
   "source": [
    "# Choose the hyperparameters for training:\n",
    "# try different epochs \n",
    "num_epochs = [5, 10, 15, 20, 30]\n",
    "batch_size = 1\n",
    "\n",
    "# Use mean squared loss function \n",
    "criterion = nn.MSELoss()\n",
    "\n",
    "#empty list to record the accuracy\n",
    "accuracy_per_epochs = []\n",
    "\n",
    "for nbr_epochs in num_epochs:\n",
    "\n",
    "    #reset model\n",
    "    model = ConvNet()\n",
    "    # reset optimizer\n",
    "    optimizer = torch.optim.SGD(model.parameters(), lr=0.1)\n",
    "\n",
    "    train_error_conv = train_conv(nbr_epochs, batch_size, criterion, optimizer, model, train_set)\n",
    "    accuracy_per_epochs.append(float(accuracy_conv(val_set, model)))"
   ]
  },
  {
   "cell_type": "code",
   "execution_count": 66,
   "metadata": {
    "colab": {
     "base_uri": "https://localhost:8080/"
    },
    "id": "EaxwUageHyMw",
    "outputId": "af4c9212-6986-4771-fecd-7719c06bb610"
   },
   "outputs": [
    {
     "data": {
      "text/plain": [
       "[97.13400464756003,\n",
       " 97.67621998450814,\n",
       " 98.21843532145624,\n",
       " 98.68319132455461,\n",
       " 98.45081332300542]"
      ]
     },
     "execution_count": 66,
     "metadata": {},
     "output_type": "execute_result"
    }
   ],
   "source": [
    "accuracy_per_epochs"
   ]
  },
  {
   "cell_type": "code",
   "execution_count": 67,
   "metadata": {
    "colab": {
     "base_uri": "https://localhost:8080/",
     "height": 313
    },
    "id": "F1-doeXNHyMw",
    "outputId": "e40a9a9a-abbb-4fbe-da87-9706c200b442"
   },
   "outputs": [
    {
     "data": {
      "text/plain": [
       "Text(0.5, 1.0, 'Accuracy per number of epochs')"
      ]
     },
     "execution_count": 67,
     "metadata": {},
     "output_type": "execute_result"
    },
    {
     "data": {
      "image/png": "[encoded data removed]",
      "text/plain": [
       "<Figure size 432x288 with 1 Axes>"
      ]
     },
     "metadata": {
      "needs_background": "light"
     },
     "output_type": "display_data"
    }
   ],
   "source": [
    "#plot accuracy\n",
    "\n",
    "plt.plot(accuracy_per_epochs)\n",
    "plt.xlabel(\"Model\")\n",
    "plt.ylabel(\"Accuracy\")\n",
    "plt.title(\"Accuracy per number of epochs\")"
   ]
  },
  {
   "cell_type": "markdown",
   "metadata": {
    "id": "iLfugmWMHyMw"
   },
   "source": [
    "##### Try different optimizers"
   ]
  },
  {
   "cell_type": "code",
   "execution_count": 68,
   "metadata": {
    "colab": {
     "base_uri": "https://localhost:8080/",
     "height": 683
    },
    "id": "6HxI-fdeHyMw",
    "outputId": "94883ec1-2351-4a90-e2c1-7b90856d4e8f"
   },
   "outputs": [
    {
     "name": "stdout",
     "output_type": "stream",
     "text": [
      "Epoch [1/20], Loss: 0.0892\n",
      "Epoch [2/20], Loss: 0.0858\n",
      "Epoch [3/20], Loss: 0.0616\n",
      "Epoch [4/20], Loss: 0.0276\n",
      "Epoch [5/20], Loss: 0.0161\n",
      "Epoch [6/20], Loss: 0.0119\n",
      "Epoch [7/20], Loss: 0.0100\n",
      "Epoch [8/20], Loss: 0.0087\n",
      "Epoch [9/20], Loss: 0.0076\n",
      "Epoch [10/20], Loss: 0.0072\n",
      "Epoch [11/20], Loss: 0.0063\n",
      "Epoch [12/20], Loss: 0.0057\n",
      "Epoch [13/20], Loss: 0.0054\n",
      "Epoch [14/20], Loss: 0.0052\n",
      "Epoch [15/20], Loss: 0.0049\n",
      "Epoch [16/20], Loss: 0.0044\n",
      "Epoch [17/20], Loss: 0.0042\n",
      "Epoch [18/20], Loss: 0.0040\n",
      "Epoch [19/20], Loss: 0.0036\n",
      "Epoch [20/20], Loss: 0.0036\n",
      "Accuracy of the model : 97.29 %\n"
     ]
    },
    {
     "data": {
      "image/png": "[encoded data removed]",
      "text/plain": [
       "<Figure size 432x288 with 1 Axes>"
      ]
     },
     "metadata": {
      "needs_background": "light"
     },
     "output_type": "display_data"
    }
   ],
   "source": [
    "# Choose the hyperparameters for training:\n",
    "# try different epochs \n",
    "num_epochs = 20\n",
    "batch_size = 8\n",
    "\n",
    "# Use mean squared loss function \n",
    "criterion = nn.MSELoss()\n",
    "\n",
    "\n",
    "#new model\n",
    "model = ConvNet()\n",
    "\n",
    "\n",
    "#Classic SGD\n",
    "optimizer = torch.optim.SGD(model.parameters(), lr=0.1)\n",
    "\n",
    "#empty list to record the accuracy\n",
    "accuracy_per_opti = []\n",
    "\n",
    "\n",
    "train_error_conv = train_conv(num_epochs, batch_size, criterion, optimizer, model, train_set)\n",
    "accuracy_per_opti.append(float(accuracy_conv(val_set, model)))"
   ]
  },
  {
   "cell_type": "code",
   "execution_count": 69,
   "metadata": {
    "colab": {
     "base_uri": "https://localhost:8080/",
     "height": 683
    },
    "id": "ukhEf_mGHyMx",
    "outputId": "8ac5bf16-b6fb-4b8c-804c-ae5015d377d3"
   },
   "outputs": [
    {
     "name": "stdout",
     "output_type": "stream",
     "text": [
      "Epoch [1/20], Loss: 0.0240\n",
      "Epoch [2/20], Loss: 0.0075\n",
      "Epoch [3/20], Loss: 0.0055\n",
      "Epoch [4/20], Loss: 0.0042\n",
      "Epoch [5/20], Loss: 0.0036\n",
      "Epoch [6/20], Loss: 0.0029\n",
      "Epoch [7/20], Loss: 0.0027\n",
      "Epoch [8/20], Loss: 0.0022\n",
      "Epoch [9/20], Loss: 0.0023\n",
      "Epoch [10/20], Loss: 0.0017\n",
      "Epoch [11/20], Loss: 0.0015\n",
      "Epoch [12/20], Loss: 0.0012\n",
      "Epoch [13/20], Loss: 0.0011\n",
      "Epoch [14/20], Loss: 0.0015\n",
      "Epoch [15/20], Loss: 0.0010\n",
      "Epoch [16/20], Loss: 0.0008\n",
      "Epoch [17/20], Loss: 0.0011\n",
      "Epoch [18/20], Loss: 0.0010\n",
      "Epoch [19/20], Loss: 0.0007\n",
      "Epoch [20/20], Loss: 0.0009\n",
      "Accuracy of the model : 98.84 %\n"
     ]
    },
    {
     "data": {
      "image/png": "[encoded data removed]",
      "text/plain": [
       "<Figure size 432x288 with 1 Axes>"
      ]
     },
     "metadata": {
      "needs_background": "light"
     },
     "output_type": "display_data"
    }
   ],
   "source": [
    "#new model\n",
    "model = ConvNet()\n",
    "\n",
    "#Adam optimizer\n",
    "optimizer = torch.optim.Adam(model.parameters(), lr=0.001)\n",
    "\n",
    "train_error_conv = train_conv(num_epochs, batch_size, criterion, optimizer, model, train_set)\n",
    "accuracy_per_opti.append(float(accuracy_conv(val_set, model)))"
   ]
  },
  {
   "cell_type": "code",
   "execution_count": 70,
   "metadata": {
    "colab": {
     "base_uri": "https://localhost:8080/",
     "height": 683
    },
    "id": "DuIXeJRsHyMx",
    "outputId": "2131aa01-f495-41aa-a6b4-977c0aa17672"
   },
   "outputs": [
    {
     "name": "stdout",
     "output_type": "stream",
     "text": [
      "Epoch [1/20], Loss: 0.0183\n",
      "Epoch [2/20], Loss: 0.0072\n",
      "Epoch [3/20], Loss: 0.0056\n",
      "Epoch [4/20], Loss: 0.0041\n",
      "Epoch [5/20], Loss: 0.0033\n",
      "Epoch [6/20], Loss: 0.0027\n",
      "Epoch [7/20], Loss: 0.0022\n",
      "Epoch [8/20], Loss: 0.0018\n",
      "Epoch [9/20], Loss: 0.0018\n",
      "Epoch [10/20], Loss: 0.0016\n",
      "Epoch [11/20], Loss: 0.0014\n",
      "Epoch [12/20], Loss: 0.0013\n",
      "Epoch [13/20], Loss: 0.0012\n",
      "Epoch [14/20], Loss: 0.0010\n",
      "Epoch [15/20], Loss: 0.0010\n",
      "Epoch [16/20], Loss: 0.0009\n",
      "Epoch [17/20], Loss: 0.0007\n",
      "Epoch [18/20], Loss: 0.0008\n",
      "Epoch [19/20], Loss: 0.0008\n",
      "Epoch [20/20], Loss: 0.0008\n",
      "Accuracy of the model : 98.30 %\n"
     ]
    },
    {
     "data": {
      "image/png": "[encoded data removed]",
      "text/plain": [
       "<Figure size 432x288 with 1 Axes>"
      ]
     },
     "metadata": {
      "needs_background": "light"
     },
     "output_type": "display_data"
    }
   ],
   "source": [
    "#new model\n",
    "model = ConvNet()\n",
    "\n",
    "#RMSprop optimizer\n",
    "optimizer = torch.optim.RMSprop(model.parameters(), lr=0.001)\n",
    "\n",
    "train_error_conv = train_conv(num_epochs, batch_size, criterion, optimizer, model, train_set)\n",
    "accuracy_per_opti.append(float(accuracy_conv(val_set, model)))"
   ]
  },
  {
   "cell_type": "code",
   "execution_count": 71,
   "metadata": {
    "colab": {
     "base_uri": "https://localhost:8080/"
    },
    "id": "kdP-eKxWHyMx",
    "outputId": "c39ccb49-5c63-4e28-e844-f86a050466b4"
   },
   "outputs": [
    {
     "data": {
      "text/plain": [
       "[97.2889233152595, 98.83810999225406, 98.29589465530596]"
      ]
     },
     "execution_count": 71,
     "metadata": {},
     "output_type": "execute_result"
    }
   ],
   "source": [
    "accuracy_per_opti"
   ]
  },
  {
   "cell_type": "code",
   "execution_count": 72,
   "metadata": {
    "colab": {
     "base_uri": "https://localhost:8080/",
     "height": 313
    },
    "id": "ZzaV82ZzHyMx",
    "outputId": "3b31678b-290b-4948-d982-69a7c57b2b3c"
   },
   "outputs": [
    {
     "data": {
      "text/plain": [
       "Text(0.5, 1.0, 'Accuracy per optimizers')"
      ]
     },
     "execution_count": 72,
     "metadata": {},
     "output_type": "execute_result"
    },
    {
     "data": {
      "image/png": "[encoded data removed]",
      "text/plain": [
       "<Figure size 432x288 with 1 Axes>"
      ]
     },
     "metadata": {
      "needs_background": "light"
     },
     "output_type": "display_data"
    }
   ],
   "source": [
    "#plot loss\n",
    "\n",
    "plt.plot(accuracy_per_opti)\n",
    "plt.xlabel(\"Model\")\n",
    "plt.ylabel(\"Accuracy\")\n",
    "plt.title(\"Accuracy per optimizers\")"
   ]
  },
  {
   "cell_type": "markdown",
   "metadata": {
    "id": "vvgkmNYvHyMx"
   },
   "source": [
    "### Exercise 3: Impact of the loss function\n",
    "The MSE error is rarely used in this case. The cross entropy loss can be a better choice for multi-classification problems. In pytorch, the cross entropy loss is defined by [nn.CrossEntropyLoss](https://pytorch.org/docs/stable/nn.html#crossentropyloss). Replace the MSE loss by this one to observe its impact.\n",
    "\n",
    "**Note:** In order to use nn.CrossEntropyLoss correctly, don't add an activation function to the last layer of your network. And one-hot encoding is no longer needed to calculate the loss, delete the encoding procedures in function `train`.   "
   ]
  },
  {
   "cell_type": "code",
   "execution_count": 73,
   "metadata": {
    "id": "-9pgU5ZcHyMy"
   },
   "outputs": [],
   "source": [
    "# define a function for training\n",
    "def train_conv_crossentropy(num_epochs, batch_size, criterion, optimizer, model, dataset):\n",
    "    train_error = []\n",
    "    train_loader = DataLoader(dataset, batch_size, shuffle=True)\n",
    "    model.train()\n",
    "    for epoch in range(num_epochs):\n",
    "        epoch_average_loss = 0.0\n",
    "        for (images, labels) in train_loader:\n",
    "            y_pre = model(images)\n",
    "\n",
    "            #reshape the inputs from [N, img_shape, img_shape] to [N, C, img_shape, img_shape] mandatory for convolution \n",
    "            \n",
    "            # One-hot encoding or labels so as to calculate MSE error:\n",
    "            # labels_one_hot = torch.FloatTensor(batch_size, 10)\n",
    "            # labels_one_hot.zero_()\n",
    "            # labels_one_hot.scatter_(1, labels.view(-1, 1), 1)\n",
    "           \n",
    "            \n",
    "            # loss = criterion(y_pre, labels_one_hot)\n",
    "            loss = criterion(y_pre, labels)\n",
    "\n",
    "\n",
    "            optimizer.zero_grad()\n",
    "            loss.backward()\n",
    "            optimizer.step()\n",
    "            epoch_average_loss += loss.item() * batch_size / len(dataset)\n",
    "        train_error.append(epoch_average_loss)\n",
    "        print('Epoch [{}/{}], Loss: {:.4f}'\n",
    "                      .format(epoch+1, num_epochs, epoch_average_loss))\n",
    "\n",
    "    plt.plot(range(1, num_epochs+1), train_error)\n",
    "    plt.xlabel(\"num_epochs\")\n",
    "    plt.ylabel(\"Train error\")\n",
    "    plt.title(\"Visualization of convergence\")\n",
    "    return train_error"
   ]
  },
  {
   "cell_type": "code",
   "execution_count": 74,
   "metadata": {
    "colab": {
     "base_uri": "https://localhost:8080/",
     "height": 665
    },
    "id": "Ycbvk6zVHyMy",
    "outputId": "53ebdd3e-b5f0-4e3d-d43b-a660ad3dd0e7"
   },
   "outputs": [
    {
     "name": "stdout",
     "output_type": "stream",
     "text": [
      "Epoch [1/20], Loss: 2.1125\n",
      "Epoch [2/20], Loss: 1.7092\n",
      "Epoch [3/20], Loss: 1.6519\n",
      "Epoch [4/20], Loss: 1.6380\n",
      "Epoch [5/20], Loss: 1.6337\n",
      "Epoch [6/20], Loss: 1.6305\n",
      "Epoch [7/20], Loss: 1.6276\n",
      "Epoch [8/20], Loss: 1.6255\n",
      "Epoch [9/20], Loss: 1.6233\n",
      "Epoch [10/20], Loss: 1.6232\n",
      "Epoch [11/20], Loss: 1.5759\n",
      "Epoch [12/20], Loss: 1.5604\n",
      "Epoch [13/20], Loss: 1.5552\n",
      "Epoch [14/20], Loss: 1.5518\n",
      "Epoch [15/20], Loss: 1.5527\n",
      "Epoch [16/20], Loss: 1.5499\n",
      "Epoch [17/20], Loss: 1.5498\n",
      "Epoch [18/20], Loss: 1.5474\n",
      "Epoch [19/20], Loss: 1.5465\n",
      "Epoch [20/20], Loss: 1.5457\n"
     ]
    },
    {
     "data": {
      "image/png": "[encoded data removed]",
      "text/plain": [
       "<Figure size 432x288 with 1 Axes>"
      ]
     },
     "metadata": {
      "needs_background": "light"
     },
     "output_type": "display_data"
    }
   ],
   "source": [
    "# Create the model: \n",
    "model = ConvNet()\n",
    "\n",
    "# Choose the hyperparameters for training: \n",
    "num_epochs = 20\n",
    "batch_size = 8\n",
    "\n",
    "# Use mean squared loss function \n",
    "criterion = nn.CrossEntropyLoss()\n",
    "\n",
    "# Use SGD optimizer with a learning rate of 0.01\n",
    "# It is initialized on our model\n",
    "optimizer = torch.optim.SGD(model.parameters(), lr=0.1)\n",
    "\n",
    "train_error_conv = train_conv_crossentropy(num_epochs, batch_size, criterion, optimizer, model, train_set)"
   ]
  },
  {
   "cell_type": "code",
   "execution_count": 75,
   "metadata": {
    "colab": {
     "base_uri": "https://localhost:8080/",
     "height": 54
    },
    "id": "rwQpY3XWHyMy",
    "outputId": "1bc7d9ad-7941-49c1-c4b3-c3af7a4343aa"
   },
   "outputs": [
    {
     "name": "stdout",
     "output_type": "stream",
     "text": [
      "Accuracy of the model : 91.09 %\n"
     ]
    },
    {
     "data": {
      "application/vnd.google.colaboratory.intrinsic+json": {
       "type": "string"
      },
      "text/plain": [
       "'91.09217660728117'"
      ]
     },
     "execution_count": 75,
     "metadata": {},
     "output_type": "execute_result"
    }
   ],
   "source": [
    "#accuracy with cross entropy\n",
    "accuracy_conv(val_set, model)"
   ]
  },
  {
   "cell_type": "markdown",
   "metadata": {
    "id": "yDBNrwe9HyMy"
   },
   "source": [
    "### Exercise 4: Prediction on test set\n",
    "\n",
    "Once you have a model that seems satisfying on the validation dataset, you SHOULD evaluate it on a test dataset that has never been used before, to obtain a final accuracy value."
   ]
  },
  {
   "cell_type": "code",
   "execution_count": 76,
   "metadata": {
    "colab": {
     "base_uri": "https://localhost:8080/"
    },
    "id": "oE6gE8-GHyMy",
    "outputId": "a7f2df3e-b6d9-40bb-b152-7bbbf02d4872"
   },
   "outputs": [
    {
     "data": {
      "text/plain": [
       "1831726"
      ]
     },
     "execution_count": 76,
     "metadata": {},
     "output_type": "execute_result"
    }
   ],
   "source": [
    "url = 'http://www.csie.ntu.edu.tw/~cjlin/libsvmtools/datasets/multiclass/usps.t.bz2'\n",
    "r = requests.get(url, allow_redirects=True)\n",
    "open('USPS/usps.t.bz2', 'wb').write(r.content)"
   ]
  },
  {
   "cell_type": "code",
   "execution_count": 77,
   "metadata": {
    "id": "kvN4eWmMHyMz"
   },
   "outputs": [],
   "source": [
    "# Loading MNIST test set from torchvision.dataset\n",
    "test_set = torchvision.datasets.USPS(root='USPS/',\n",
    "                                         train=False,\n",
    "                                         transform=transforms.ToTensor(),\n",
    "                                         download=False)"
   ]
  },
  {
   "cell_type": "code",
   "execution_count": 78,
   "metadata": {
    "colab": {
     "base_uri": "https://localhost:8080/",
     "height": 886
    },
    "id": "BfqfeeYfHyMz",
    "outputId": "06b25025-366c-44eb-d534-95eb85d9ff42"
   },
   "outputs": [
    {
     "name": "stdout",
     "output_type": "stream",
     "text": [
      "Epoch [1/30], Loss: 0.0240\n",
      "Epoch [2/30], Loss: 0.0067\n",
      "Epoch [3/30], Loss: 0.0045\n",
      "Epoch [4/30], Loss: 0.0038\n",
      "Epoch [5/30], Loss: 0.0030\n",
      "Epoch [6/30], Loss: 0.0023\n",
      "Epoch [7/30], Loss: 0.0017\n",
      "Epoch [8/30], Loss: 0.0020\n",
      "Epoch [9/30], Loss: 0.0014\n",
      "Epoch [10/30], Loss: 0.0012\n",
      "Epoch [11/30], Loss: 0.0015\n",
      "Epoch [12/30], Loss: 0.0011\n",
      "Epoch [13/30], Loss: 0.0009\n",
      "Epoch [14/30], Loss: 0.0008\n",
      "Epoch [15/30], Loss: 0.0007\n",
      "Epoch [16/30], Loss: 0.0010\n",
      "Epoch [17/30], Loss: 0.0007\n",
      "Epoch [18/30], Loss: 0.0005\n",
      "Epoch [19/30], Loss: 0.0008\n",
      "Epoch [20/30], Loss: 0.0007\n",
      "Epoch [21/30], Loss: 0.0006\n",
      "Epoch [22/30], Loss: 0.0012\n",
      "Epoch [23/30], Loss: 0.0005\n",
      "Epoch [24/30], Loss: 0.0004\n",
      "Epoch [25/30], Loss: 0.0004\n",
      "Epoch [26/30], Loss: 0.0008\n",
      "Epoch [27/30], Loss: 0.0007\n",
      "Epoch [28/30], Loss: 0.0005\n",
      "Epoch [29/30], Loss: 0.0005\n",
      "Epoch [30/30], Loss: 0.0004\n",
      "Accuracy of the model : 97.68 %\n"
     ]
    },
    {
     "data": {
      "application/vnd.google.colaboratory.intrinsic+json": {
       "type": "string"
      },
      "text/plain": [
       "'97.67621998450814'"
      ]
     },
     "execution_count": 78,
     "metadata": {},
     "output_type": "execute_result"
    },
    {
     "data": {
      "image/png": "[encoded data removed]",
      "text/plain": [
       "<Figure size 432x288 with 1 Axes>"
      ]
     },
     "metadata": {
      "needs_background": "light"
     },
     "output_type": "display_data"
    }
   ],
   "source": [
    "#use the best parameters we found:\n",
    "\n",
    "model = ConvNet()\n",
    "\n",
    "optimizer = torch.optim.Adam(model.parameters(), lr = 0.001)\n",
    "\n",
    "criterion = nn.MSELoss()\n",
    "\n",
    "num_epochs = 30\n",
    "batch_size = 8\n",
    "\n",
    "\n",
    "train_error_conv = train_conv(num_epochs, batch_size, criterion, optimizer, model, train_set)\n",
    "accuracy_conv(val_set, model)"
   ]
  },
  {
   "cell_type": "code",
   "execution_count": 79,
   "metadata": {
    "colab": {
     "base_uri": "https://localhost:8080/",
     "height": 54
    },
    "id": "WZaMlQ1_HyMz",
    "outputId": "738d8f1b-f6b2-48e9-9eb6-8b1ce912b0ca"
   },
   "outputs": [
    {
     "name": "stdout",
     "output_type": "stream",
     "text": [
      "Accuracy of the model : 95.52 %\n"
     ]
    },
    {
     "data": {
      "application/vnd.google.colaboratory.intrinsic+json": {
       "type": "string"
      },
      "text/plain": [
       "'95.51569506726457'"
      ]
     },
     "execution_count": 79,
     "metadata": {},
     "output_type": "execute_result"
    }
   ],
   "source": [
    "accuracy_conv(test_set, model)"
   ]
  }
 ],
 "metadata": {
  "colab": {
   "collapsed_sections": [],
   "name": "01_TD_Multiclass.ipynb",
   "provenance": []
  },
  "kernelspec": {
   "display_name": "Python 3",
   "language": "python",
   "name": "python3"
  },
  "language_info": {
   "codemirror_mode": {
    "name": "ipython",
    "version": 3
   },
   "file_extension": ".py",
   "mimetype": "text/x-python",
   "name": "python",
   "nbconvert_exporter": "python",
   "pygments_lexer": "ipython3",
   "version": "3.6.8"
  }
 },
 "nbformat": 4,
 "nbformat_minor": 1
}
