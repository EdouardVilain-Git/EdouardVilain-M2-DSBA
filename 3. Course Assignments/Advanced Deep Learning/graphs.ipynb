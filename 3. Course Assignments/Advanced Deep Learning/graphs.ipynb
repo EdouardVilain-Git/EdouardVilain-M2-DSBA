{
 "cells": [
  {
   "cell_type": "markdown",
   "metadata": {
    "id": "6jbZ9HRn50Dr"
   },
   "source": [
    "# TD: GNN"
   ]
  },
  {
   "cell_type": "code",
   "execution_count": null,
   "metadata": {
    "colab": {
     "base_uri": "https://localhost:8080/"
    },
    "id": "QWKImAIm51Dv",
    "outputId": "d699e982-3f8c-4c6b-dbd4-96c55141210c"
   },
   "outputs": [
    {
     "name": "stdout",
     "output_type": "stream",
     "text": [
      "Collecting dgl-cu110\n",
      "  Downloading dgl_cu110-0.6.1-cp37-cp37m-manylinux1_x86_64.whl (39.9 MB)\n",
      "\u001b[K     |████████████████████████████████| 39.9 MB 1.7 MB/s \n",
      "\u001b[?25hRequirement already satisfied: numpy>=1.14.0 in /usr/local/lib/python3.7/dist-packages (from dgl-cu110) (1.21.5)\n",
      "Requirement already satisfied: scipy>=1.1.0 in /usr/local/lib/python3.7/dist-packages (from dgl-cu110) (1.4.1)\n",
      "Requirement already satisfied: requests>=2.19.0 in /usr/local/lib/python3.7/dist-packages (from dgl-cu110) (2.23.0)\n",
      "Requirement already satisfied: networkx>=2.1 in /usr/local/lib/python3.7/dist-packages (from dgl-cu110) (2.6.3)\n",
      "Requirement already satisfied: chardet<4,>=3.0.2 in /usr/local/lib/python3.7/dist-packages (from requests>=2.19.0->dgl-cu110) (3.0.4)\n",
      "Requirement already satisfied: idna<3,>=2.5 in /usr/local/lib/python3.7/dist-packages (from requests>=2.19.0->dgl-cu110) (2.10)\n",
      "Requirement already satisfied: urllib3!=1.25.0,!=1.25.1,<1.26,>=1.21.1 in /usr/local/lib/python3.7/dist-packages (from requests>=2.19.0->dgl-cu110) (1.24.3)\n",
      "Requirement already satisfied: certifi>=2017.4.17 in /usr/local/lib/python3.7/dist-packages (from requests>=2.19.0->dgl-cu110) (2021.10.8)\n",
      "Installing collected packages: dgl-cu110\n",
      "Successfully installed dgl-cu110-0.6.1\n"
     ]
    }
   ],
   "source": [
    "!pip install dgl-cu110"
   ]
  },
  {
   "cell_type": "code",
   "execution_count": null,
   "metadata": {
    "colab": {
     "base_uri": "https://localhost:8080/"
    },
    "id": "0Ye-nT9Z50D1",
    "outputId": "cbb242a7-c9b3-454c-e562-336e87945d23"
   },
   "outputs": [
    {
     "name": "stderr",
     "output_type": "stream",
     "text": [
      "DGL backend not selected or invalid.  Assuming PyTorch for now.\n",
      "Using backend: pytorch\n"
     ]
    },
    {
     "name": "stdout",
     "output_type": "stream",
     "text": [
      "Setting the default backend to \"pytorch\". You can change it in the ~/.dgl/config.json file or export the DGLBACKEND environment variable.  Valid options are: pytorch, mxnet, tensorflow (all lowercase)\n"
     ]
    }
   ],
   "source": [
    "import argparse\n",
    "from os import path\n",
    "\n",
    "import numpy as np\n",
    "import matplotlib.pyplot as plt\n",
    "\n",
    "import torch\n",
    "import torch.nn.functional as F\n",
    "from dgl import batch\n",
    "from dgl.data.ppi import LegacyPPIDataset\n",
    "from dgl.nn.pytorch import GraphConv\n",
    "from dgl.nn.pytorch import GATConv\n",
    "from sklearn.metrics import f1_score\n",
    "from torch import nn, optim\n",
    "from torch.utils.data import DataLoader"
   ]
  },
  {
   "cell_type": "code",
   "execution_count": null,
   "metadata": {
    "id": "0cK6dSfS50D5"
   },
   "outputs": [],
   "source": [
    "MODEL_STATE_FILE = '/content/model_state.pth'"
   ]
  },
  {
   "cell_type": "code",
   "execution_count": null,
   "metadata": {
    "id": "UT4CvDmC50D7"
   },
   "outputs": [],
   "source": [
    "class BasicGraphModel(nn.Module):\n",
    "\n",
    "    def __init__(self, g, n_layers, input_size, hidden_size, output_size, nonlinearity):\n",
    "        super().__init__()\n",
    "\n",
    "        self.g = g\n",
    "        self.layers = nn.ModuleList()\n",
    "        self.layers.append(GraphConv(input_size, hidden_size, activation=nonlinearity))\n",
    "        for i in range(n_layers - 1):\n",
    "            self.layers.append(GraphConv(hidden_size, hidden_size, activation=nonlinearity))\n",
    "        self.layers.append(GraphConv(hidden_size, output_size))\n",
    "\n",
    "    def forward(self, inputs):\n",
    "        outputs = inputs\n",
    "        for i, layer in enumerate(self.layers):\n",
    "            outputs = layer(self.g, outputs)\n",
    "\n",
    "        return outputs"
   ]
  },
  {
   "cell_type": "code",
   "execution_count": null,
   "metadata": {
    "id": "oq-3C9mf5eVs"
   },
   "outputs": [],
   "source": [
    "class SuperGraphModel(nn.Module):\n",
    "    def __init__(self,\n",
    "                 g,\n",
    "                 num_layers,\n",
    "                 in_dim,\n",
    "                 num_hidden,\n",
    "                 num_classes,\n",
    "                 heads,\n",
    "                 activation,\n",
    "                 feat_drop,\n",
    "                 attn_drop,\n",
    "                 negative_slope,\n",
    "                 residual):\n",
    "        super(SuperGraphModel, self).__init__()\n",
    "        self.g = g\n",
    "        self.num_layers = num_layers\n",
    "        self.layers = nn.ModuleList()\n",
    "        self.activation = activation\n",
    "        # input projection (no residual)\n",
    "        self.layers.append(GATConv(\n",
    "            in_dim, num_hidden, heads[0], #50, 256, 4, ELU, FALSE= residuals à toi de voir, negative_s = 0.2 selon l'article\n",
    "            feat_drop, attn_drop, negative_slope, False, self.activation))\n",
    "        # hidden layers\n",
    "        for l in range(1, num_layers):\n",
    "            # due to multi-head, the in_dim = num_hidden * num_heads\n",
    "            self.layers.append(GATConv( #heads = [4, 4, 6]\n",
    "                num_hidden * heads[l-1], num_hidden, heads[l], #256 * 4, 256, 4\n",
    "                feat_drop, attn_drop, negative_slope, residual, self.activation))\n",
    "        # output projection\n",
    "        self.layers.append(GATConv(\n",
    "            num_hidden * heads[-2], num_classes, heads[-1], #256 * 4, 121, 6\n",
    "            feat_drop, attn_drop, negative_slope, residual, None))\n",
    "\n",
    "    def forward(self, inputs):\n",
    "        h = inputs\n",
    "        for l in range(self.num_layers):\n",
    "            h = self.layers[l](self.g, h).flatten(1)\n",
    "        # output projection\n",
    "        logits = torch.sigmoid(self.layers[-1](self.g, h).mean(1))\n",
    "        return logits"
   ]
  },
  {
   "cell_type": "code",
   "execution_count": null,
   "metadata": {
    "id": "Kux2_Ncmoq-A"
   },
   "outputs": [],
   "source": [
    "class GATM(nn.Module):\n",
    "\n",
    "    def __init__(self):\n",
    "    super(GATM, self).__init__()\n",
    "    self.layers = nn.ModuleList()\n",
    "    self.g1 = GATConv(in_feats = 50, out_feats = 256, num_heads = 4, negative_slope = 0.2, activation = F.elu)\n",
    "    self.g2 = GATConv(in_feats = 256, out_feats = 256, num_heads = 4, negative_slope = 0.2, activation = F.elu, residual = True)\n",
    "    self.g3 = GATConv(in_feats = 256, out_feats = 121, num_heads = 6, negative_slope = 0.2, activation = F.elu, residual = True)\n",
    "    self.g4 = GATConv(in_feats = 256, out_feats = 121, num_heads = 6, negative_slope = 0.2, activation = F.sigmoid, residual = True)\n",
    "\n",
    "    def forward(self, inputs):\n",
    "    x = self.g1(inputs).flatten(1)\n",
    "    x = self.g2(x).flatten(1)\n",
    "    x = self.g3(x).flatten(1)\n",
    "    logits = self.g4(x).mean(1)\n",
    "    return logits"
   ]
  },
  {
   "cell_type": "code",
   "execution_count": null,
   "metadata": {
    "id": "linZIoGI50D9"
   },
   "outputs": [],
   "source": [
    "def train(model, loss_fcn, device, optimizer, train_dataloader, test_dataset, epochs):\n",
    "\n",
    "    f1_score_list = []\n",
    "    epoch_list = []\n",
    "\n",
    "    for epoch in range(epochs):\n",
    "        model.train()\n",
    "        losses = []\n",
    "        for batch, data in enumerate(train_dataloader):\n",
    "            subgraph, features, labels = data\n",
    "            subgraph = subgraph.to(device)\n",
    "            features = features.to(device)\n",
    "            labels = labels.to(device)\n",
    "            model.g = subgraph\n",
    "            for layer in model.layers:\n",
    "                layer.g = subgraph\n",
    "            logits = model(features.float())\n",
    "            loss = loss_fcn(logits, labels.float())\n",
    "            optimizer.zero_grad()\n",
    "            loss.backward()\n",
    "            optimizer.step()\n",
    "            losses.append(loss.item())\n",
    "        loss_data = np.array(losses).mean()\n",
    "        print(\"Epoch {:05d} | Loss: {:.4f}\".format(epoch + 1, loss_data))\n",
    "\n",
    "        if epoch % 5 == 0:\n",
    "            scores = []\n",
    "            for batch, test_data in enumerate(test_dataset):\n",
    "                subgraph, features, labels = test_data\n",
    "                subgraph = subgraph.clone().to(device)\n",
    "                features = features.clone().detach().to(device)\n",
    "                labels = labels.clone().detach().to(device)\n",
    "                score, _ = evaluate(features.float(), model, subgraph, labels.float(), loss_fcn)\n",
    "                scores.append(score)\n",
    "                f1_score_list.append(score)\n",
    "                epoch_list.append(epoch)\n",
    "            print(\"F1-Score: {:.4f} \".format(np.array(scores).mean()))\n",
    "\n",
    "    plot_f1_score(epoch_list, f1_score_list)"
   ]
  },
  {
   "cell_type": "code",
   "execution_count": null,
   "metadata": {
    "id": "hNUtEDG650D_"
   },
   "outputs": [],
   "source": [
    "def test(model, loss_fcn, device, test_dataloader):\n",
    "    test_scores = []\n",
    "    for batch, test_data in enumerate(test_dataloader):\n",
    "        subgraph, features, labels = test_data\n",
    "        subgraph = subgraph.to(device)\n",
    "        features = features.to(device)\n",
    "        labels = labels.to(device)\n",
    "        test_scores.append(evaluate(features, model, subgraph, labels.float(), loss_fcn)[0])\n",
    "    mean_scores = np.array(test_scores).mean()\n",
    "    print(\"F1-Score: {:.4f}\".format(np.array(test_scores).mean()))\n",
    "    return mean_scores"
   ]
  },
  {
   "cell_type": "code",
   "execution_count": null,
   "metadata": {
    "id": "-dE15qix50EA"
   },
   "outputs": [],
   "source": [
    "def evaluate(features, model, subgraph, labels, loss_fcn):\n",
    "    with torch.no_grad():\n",
    "        model.eval()\n",
    "        model.g = subgraph\n",
    "        for layer in model.layers:\n",
    "            layer.g = subgraph\n",
    "        output = model(features.float())\n",
    "        loss_data = loss_fcn(output, labels.float())\n",
    "        predict = np.where(output.data.cpu().numpy() >= 0.5, 1, 0)\n",
    "        score = f1_score(labels.data.cpu().numpy(), predict, average=\"micro\")\n",
    "        return score, loss_data.item()"
   ]
  },
  {
   "cell_type": "code",
   "execution_count": null,
   "metadata": {
    "id": "2vLtJdg350EC"
   },
   "outputs": [],
   "source": [
    "def collate_fn(sample) :\n",
    "    # concatenate graph, features and labels w.r.t batch size\n",
    "    graphs, features, labels = map(list, zip(*sample))\n",
    "    graph = batch(graphs)\n",
    "    features = torch.from_numpy(np.concatenate(features))\n",
    "    labels = torch.from_numpy(np.concatenate(labels))\n",
    "    return graph, features, labels"
   ]
  },
  {
   "cell_type": "code",
   "execution_count": null,
   "metadata": {
    "id": "9JmHkGKk50EE"
   },
   "outputs": [],
   "source": [
    "def plot_f1_score(epoch_list, f1_score_list) :\n",
    "\n",
    "    plt.plot(epoch_list, f1_score_list)\n",
    "    plt.title(\"Evolution of f1 score w.r.t epochs\")\n",
    "    plt.show()"
   ]
  },
  {
   "cell_type": "code",
   "execution_count": 1,
   "metadata": {
    "colab": {
     "base_uri": "https://localhost:8080/"
    },
    "id": "MRdvDwOU50EF",
    "outputId": "0406dca6-9420-41b3-cb44-00a67daa7711"
   },
   "outputs": [
    {
     "ename": "NameError",
     "evalue": "name 'LegacyPPIDataset' is not defined",
     "output_type": "error",
     "traceback": [
      "\u001b[0;31m---------------------------------------------------------------------------\u001b[0m",
      "\u001b[0;31mNameError\u001b[0m                                 Traceback (most recent call last)",
      "\u001b[0;32m<ipython-input-1-9456e7d450f5>\u001b[0m in \u001b[0;36m<module>\u001b[0;34m()\u001b[0m\n\u001b[1;32m      1\u001b[0m \u001b[0;31m# load dataset and create dataloader\u001b[0m\u001b[0;34m\u001b[0m\u001b[0;34m\u001b[0m\u001b[0;34m\u001b[0m\u001b[0m\n\u001b[1;32m      2\u001b[0m \u001b[0mbatch_size\u001b[0m \u001b[0;34m=\u001b[0m \u001b[0;36m2\u001b[0m\u001b[0;34m\u001b[0m\u001b[0;34m\u001b[0m\u001b[0m\n\u001b[0;32m----> 3\u001b[0;31m \u001b[0mtrain_dataset\u001b[0m\u001b[0;34m,\u001b[0m \u001b[0mtest_dataset\u001b[0m \u001b[0;34m=\u001b[0m \u001b[0mLegacyPPIDataset\u001b[0m\u001b[0;34m(\u001b[0m\u001b[0mmode\u001b[0m\u001b[0;34m=\u001b[0m\u001b[0;34m\"train\"\u001b[0m\u001b[0;34m)\u001b[0m\u001b[0;34m,\u001b[0m \u001b[0mLegacyPPIDataset\u001b[0m\u001b[0;34m(\u001b[0m\u001b[0mmode\u001b[0m\u001b[0;34m=\u001b[0m\u001b[0;34m\"test\"\u001b[0m\u001b[0;34m)\u001b[0m\u001b[0;34m\u001b[0m\u001b[0;34m\u001b[0m\u001b[0m\n\u001b[0m\u001b[1;32m      4\u001b[0m \u001b[0mtrain_dataloader\u001b[0m \u001b[0;34m=\u001b[0m \u001b[0mDataLoader\u001b[0m\u001b[0;34m(\u001b[0m\u001b[0mtrain_dataset\u001b[0m\u001b[0;34m,\u001b[0m \u001b[0mbatch_size\u001b[0m\u001b[0;34m=\u001b[0m\u001b[0mbatch_size\u001b[0m\u001b[0;34m,\u001b[0m \u001b[0mcollate_fn\u001b[0m\u001b[0;34m=\u001b[0m\u001b[0mcollate_fn\u001b[0m\u001b[0;34m)\u001b[0m\u001b[0;34m\u001b[0m\u001b[0;34m\u001b[0m\u001b[0m\n\u001b[1;32m      5\u001b[0m \u001b[0mtest_dataloader\u001b[0m \u001b[0;34m=\u001b[0m \u001b[0mDataLoader\u001b[0m\u001b[0;34m(\u001b[0m\u001b[0mtest_dataset\u001b[0m\u001b[0;34m,\u001b[0m \u001b[0mbatch_size\u001b[0m\u001b[0;34m=\u001b[0m\u001b[0mbatch_size\u001b[0m\u001b[0;34m,\u001b[0m \u001b[0mcollate_fn\u001b[0m\u001b[0;34m=\u001b[0m\u001b[0mcollate_fn\u001b[0m\u001b[0;34m)\u001b[0m\u001b[0;34m\u001b[0m\u001b[0;34m\u001b[0m\u001b[0m\n",
      "\u001b[0;31mNameError\u001b[0m: name 'LegacyPPIDataset' is not defined"
     ]
    }
   ],
   "source": [
    "# load dataset and create dataloader\n",
    "batch_size = 2\n",
    "train_dataset, test_dataset = LegacyPPIDataset(mode=\"train\"), LegacyPPIDataset(mode=\"test\")\n",
    "train_dataloader = DataLoader(train_dataset, batch_size=batch_size, collate_fn=collate_fn)\n",
    "test_dataloader = DataLoader(test_dataset, batch_size=batch_size, collate_fn=collate_fn)\n",
    "n_features, n_classes = train_dataset.features.shape[1], train_dataset.labels.shape[1]"
   ]
  },
  {
   "cell_type": "code",
   "execution_count": null,
   "metadata": {
    "id": "c4-yVJ9M50EG"
   },
   "outputs": [],
   "source": [
    "# create the model, loss function and optimizer\n",
    "device = torch.device(\"cuda\")\n",
    "\n",
    "########### Replace this model with your own GNN implemented class ################################\n",
    "\n",
    "model = BasicGraphModel(g=train_dataset.graph, n_layers=2, input_size=n_features,\n",
    "                            hidden_size=256, output_size=n_classes, nonlinearity=F.elu).to(device)\n",
    "\n",
    "###################################################################################################\n",
    "\n",
    "loss_fcn = nn.BCEWithLogitsLoss()\n",
    "optimizer = torch.optim.Adam(model.parameters())\n",
    "epochs = 250"
   ]
  },
  {
   "cell_type": "code",
   "execution_count": null,
   "metadata": {
    "id": "W6xXmfFXkhVx"
   },
   "outputs": [],
   "source": [
    "device = torch.device(\"cuda\")\n",
    "\n",
    "########### Replace this model with your own GNN implemented class ################################\n",
    "'''\n",
    "model = SuperGraphModel(\n",
    "    g=train_dataset.graph,\n",
    "    n_layers=5,\n",
    "    input_size=n_features,\n",
    "    hidden_size=512,\n",
    "    output_size=n_classes,\n",
    "    nonlinearity=F.relu\n",
    ").to(device)\n",
    "'''\n",
    "\n",
    "epochs = 250\n",
    "num_heads = 4\n",
    "num_layers = 2\n",
    "num_out_heads = 6\n",
    "heads = ([num_heads] * num_layers) + [num_out_heads] \n",
    "\n",
    "model = SuperGraphModel(train_dataset.graph, num_layers, n_features, 256, n_classes, heads, F.elu, 0, 0, 0.2, True).to(device)\n",
    "\n",
    "###################################################################################################\n",
    "\n",
    "loss_fcn = nn.BCEWithLogitsLoss()\n",
    "optimizer = torch.optim.Adam(model.parameters())"
   ]
  },
  {
   "cell_type": "code",
   "execution_count": null,
   "metadata": {
    "id": "DQXCcZkw50EH"
   },
   "outputs": [],
   "source": [
    "def do_train():\n",
    "    train(model, loss_fcn, device, optimizer, train_dataloader, test_dataset, epochs)\n",
    "    torch.save(model.state_dict(), MODEL_STATE_FILE)"
   ]
  },
  {
   "cell_type": "code",
   "execution_count": null,
   "metadata": {
    "id": "NM6Bk9Y950EH"
   },
   "outputs": [],
   "source": [
    "def do_test():\n",
    "    model.load_state_dict(torch.load(MODEL_STATE_FILE))\n",
    "    test(model, loss_fcn, device, test_dataloader)"
   ]
  },
  {
   "cell_type": "code",
   "execution_count": null,
   "metadata": {
    "colab": {
     "base_uri": "https://localhost:8080/",
     "height": 1000
    },
    "id": "7nFIj9vU6qeu",
    "outputId": "6d807da6-0080-43c7-abc0-8fe4de99b474"
   },
   "outputs": [
    {
     "name": "stdout",
     "output_type": "stream",
     "text": [
      "Epoch 00001 | Loss: 0.7273\n",
      "F1-Score: 0.3040 \n",
      "Epoch 00002 | Loss: 0.6841\n",
      "Epoch 00003 | Loss: 0.6829\n",
      "Epoch 00004 | Loss: 0.6825\n",
      "Epoch 00005 | Loss: 0.6823\n",
      "Epoch 00006 | Loss: 0.6821\n",
      "F1-Score: 0.3279 \n",
      "Epoch 00007 | Loss: 0.6818\n",
      "Epoch 00008 | Loss: 0.6813\n",
      "Epoch 00009 | Loss: 0.6811\n",
      "Epoch 00010 | Loss: 0.6808\n",
      "Epoch 00011 | Loss: 0.6806\n",
      "F1-Score: 0.3127 \n",
      "Epoch 00012 | Loss: 0.6804\n",
      "Epoch 00013 | Loss: 0.6802\n",
      "Epoch 00014 | Loss: 0.6801\n",
      "Epoch 00015 | Loss: 0.6800\n",
      "Epoch 00016 | Loss: 0.6798\n",
      "F1-Score: 0.3209 \n",
      "Epoch 00017 | Loss: 0.6797\n",
      "Epoch 00018 | Loss: 0.6796\n",
      "Epoch 00019 | Loss: 0.6794\n",
      "Epoch 00020 | Loss: 0.6793\n",
      "Epoch 00021 | Loss: 0.6791\n",
      "F1-Score: 0.3268 \n",
      "Epoch 00022 | Loss: 0.6791\n",
      "Epoch 00023 | Loss: 0.6789\n",
      "Epoch 00024 | Loss: 0.6789\n",
      "Epoch 00025 | Loss: 0.6786\n",
      "Epoch 00026 | Loss: 0.6784\n",
      "F1-Score: 0.3214 \n",
      "Epoch 00027 | Loss: 0.6782\n",
      "Epoch 00028 | Loss: 0.6781\n",
      "Epoch 00029 | Loss: 0.6778\n",
      "Epoch 00030 | Loss: 0.6777\n",
      "Epoch 00031 | Loss: 0.6776\n",
      "F1-Score: 0.3355 \n",
      "Epoch 00032 | Loss: 0.6773\n",
      "Epoch 00033 | Loss: 0.6769\n",
      "Epoch 00034 | Loss: 0.6765\n",
      "Epoch 00035 | Loss: 0.6763\n",
      "Epoch 00036 | Loss: 0.6760\n",
      "F1-Score: 0.3509 \n",
      "Epoch 00037 | Loss: 0.6758\n",
      "Epoch 00038 | Loss: 0.6755\n",
      "Epoch 00039 | Loss: 0.6753\n",
      "Epoch 00040 | Loss: 0.6751\n",
      "Epoch 00041 | Loss: 0.6749\n",
      "F1-Score: 0.3519 \n",
      "Epoch 00042 | Loss: 0.6747\n",
      "Epoch 00043 | Loss: 0.6747\n",
      "Epoch 00044 | Loss: 0.6745\n",
      "Epoch 00045 | Loss: 0.6746\n",
      "Epoch 00046 | Loss: 0.6741\n",
      "F1-Score: 0.3387 \n",
      "Epoch 00047 | Loss: 0.6743\n",
      "Epoch 00048 | Loss: 0.6742\n",
      "Epoch 00049 | Loss: 0.6741\n",
      "Epoch 00050 | Loss: 0.6740\n",
      "Epoch 00051 | Loss: 0.6736\n",
      "F1-Score: 0.3587 \n",
      "Epoch 00052 | Loss: 0.6730\n",
      "Epoch 00053 | Loss: 0.6726\n",
      "Epoch 00054 | Loss: 0.6723\n",
      "Epoch 00055 | Loss: 0.6721\n",
      "Epoch 00056 | Loss: 0.6718\n",
      "F1-Score: 0.3718 \n",
      "Epoch 00057 | Loss: 0.6706\n",
      "Epoch 00058 | Loss: 0.6695\n",
      "Epoch 00059 | Loss: 0.6686\n",
      "Epoch 00060 | Loss: 0.6679\n",
      "Epoch 00061 | Loss: 0.6674\n",
      "F1-Score: 0.4273 \n",
      "Epoch 00062 | Loss: 0.6674\n",
      "Epoch 00063 | Loss: 0.6664\n",
      "Epoch 00064 | Loss: 0.6660\n",
      "Epoch 00065 | Loss: 0.6654\n",
      "Epoch 00066 | Loss: 0.6652\n",
      "F1-Score: 0.4902 \n",
      "Epoch 00067 | Loss: 0.6632\n",
      "Epoch 00068 | Loss: 0.6606\n",
      "Epoch 00069 | Loss: 0.6576\n",
      "Epoch 00070 | Loss: 0.6549\n",
      "Epoch 00071 | Loss: 0.6527\n",
      "F1-Score: 0.5832 \n",
      "Epoch 00072 | Loss: 0.6521\n",
      "Epoch 00073 | Loss: 0.6510\n",
      "Epoch 00074 | Loss: 0.6486\n",
      "Epoch 00075 | Loss: 0.6463\n",
      "Epoch 00076 | Loss: 0.6442\n",
      "F1-Score: 0.6382 \n",
      "Epoch 00077 | Loss: 0.6432\n",
      "Epoch 00078 | Loss: 0.6421\n",
      "Epoch 00079 | Loss: 0.6443\n",
      "Epoch 00080 | Loss: 0.6426\n",
      "Epoch 00081 | Loss: 0.6386\n",
      "F1-Score: 0.6946 \n",
      "Epoch 00082 | Loss: 0.6363\n",
      "Epoch 00083 | Loss: 0.6342\n",
      "Epoch 00084 | Loss: 0.6324\n",
      "Epoch 00085 | Loss: 0.6311\n",
      "Epoch 00086 | Loss: 0.6300\n",
      "F1-Score: 0.7417 \n",
      "Epoch 00087 | Loss: 0.6292\n",
      "Epoch 00088 | Loss: 0.6284\n",
      "Epoch 00089 | Loss: 0.6277\n",
      "Epoch 00090 | Loss: 0.6263\n",
      "Epoch 00091 | Loss: 0.6251\n",
      "F1-Score: 0.7654 \n",
      "Epoch 00092 | Loss: 0.6239\n",
      "Epoch 00093 | Loss: 0.6232\n",
      "Epoch 00094 | Loss: 0.6232\n",
      "Epoch 00095 | Loss: 0.6233\n",
      "Epoch 00096 | Loss: 0.6232\n",
      "F1-Score: 0.7750 \n",
      "Epoch 00097 | Loss: 0.6218\n",
      "Epoch 00098 | Loss: 0.6201\n",
      "Epoch 00099 | Loss: 0.6188\n",
      "Epoch 00100 | Loss: 0.6179\n",
      "Epoch 00101 | Loss: 0.6172\n",
      "F1-Score: 0.8076 \n",
      "Epoch 00102 | Loss: 0.6167\n",
      "Epoch 00103 | Loss: 0.6162\n",
      "Epoch 00104 | Loss: 0.6157\n",
      "Epoch 00105 | Loss: 0.6155\n",
      "Epoch 00106 | Loss: 0.6153\n",
      "F1-Score: 0.8170 \n",
      "Epoch 00107 | Loss: 0.6150\n",
      "Epoch 00108 | Loss: 0.6148\n",
      "Epoch 00109 | Loss: 0.6145\n",
      "Epoch 00110 | Loss: 0.6140\n",
      "Epoch 00111 | Loss: 0.6136\n",
      "F1-Score: 0.8242 \n",
      "Epoch 00112 | Loss: 0.6132\n",
      "Epoch 00113 | Loss: 0.6126\n",
      "Epoch 00114 | Loss: 0.6120\n",
      "Epoch 00115 | Loss: 0.6115\n",
      "Epoch 00116 | Loss: 0.6110\n",
      "F1-Score: 0.8346 \n",
      "Epoch 00117 | Loss: 0.6106\n",
      "Epoch 00118 | Loss: 0.6103\n",
      "Epoch 00119 | Loss: 0.6099\n",
      "Epoch 00120 | Loss: 0.6096\n",
      "Epoch 00121 | Loss: 0.6092\n",
      "F1-Score: 0.8450 \n",
      "Epoch 00122 | Loss: 0.6088\n",
      "Epoch 00123 | Loss: 0.6085\n",
      "Epoch 00124 | Loss: 0.6080\n",
      "Epoch 00125 | Loss: 0.6076\n",
      "Epoch 00126 | Loss: 0.6071\n",
      "F1-Score: 0.8528 \n",
      "Epoch 00127 | Loss: 0.6069\n",
      "Epoch 00128 | Loss: 0.6066\n",
      "Epoch 00129 | Loss: 0.6063\n",
      "Epoch 00130 | Loss: 0.6062\n",
      "Epoch 00131 | Loss: 0.6059\n",
      "F1-Score: 0.8590 \n",
      "Epoch 00132 | Loss: 0.6057\n",
      "Epoch 00133 | Loss: 0.6055\n",
      "Epoch 00134 | Loss: 0.6057\n",
      "Epoch 00135 | Loss: 0.6051\n",
      "Epoch 00136 | Loss: 0.6048\n",
      "F1-Score: 0.8663 \n",
      "Epoch 00137 | Loss: 0.6046\n",
      "Epoch 00138 | Loss: 0.6041\n",
      "Epoch 00139 | Loss: 0.6039\n",
      "Epoch 00140 | Loss: 0.6037\n",
      "Epoch 00141 | Loss: 0.6033\n",
      "F1-Score: 0.8700 \n",
      "Epoch 00142 | Loss: 0.6032\n",
      "Epoch 00143 | Loss: 0.6029\n",
      "Epoch 00144 | Loss: 0.6028\n",
      "Epoch 00145 | Loss: 0.6026\n",
      "Epoch 00146 | Loss: 0.6024\n",
      "F1-Score: 0.8725 \n",
      "Epoch 00147 | Loss: 0.6023\n",
      "Epoch 00148 | Loss: 0.6021\n",
      "Epoch 00149 | Loss: 0.6021\n",
      "Epoch 00150 | Loss: 0.6022\n",
      "Epoch 00151 | Loss: 0.6020\n",
      "F1-Score: 0.8748 \n",
      "Epoch 00152 | Loss: 0.6018\n",
      "Epoch 00153 | Loss: 0.6017\n",
      "Epoch 00154 | Loss: 0.6014\n",
      "Epoch 00155 | Loss: 0.6013\n",
      "Epoch 00156 | Loss: 0.6011\n",
      "F1-Score: 0.8787 \n",
      "Epoch 00157 | Loss: 0.6008\n",
      "Epoch 00158 | Loss: 0.6006\n",
      "Epoch 00159 | Loss: 0.6003\n",
      "Epoch 00160 | Loss: 0.6000\n",
      "Epoch 00161 | Loss: 0.5998\n",
      "F1-Score: 0.8846 \n",
      "Epoch 00162 | Loss: 0.5996\n",
      "Epoch 00163 | Loss: 0.5994\n",
      "Epoch 00164 | Loss: 0.5994\n",
      "Epoch 00165 | Loss: 0.5993\n",
      "Epoch 00166 | Loss: 0.5992\n",
      "F1-Score: 0.8884 \n",
      "Epoch 00167 | Loss: 0.5990\n",
      "Epoch 00168 | Loss: 0.5987\n",
      "Epoch 00169 | Loss: 0.5982\n",
      "Epoch 00170 | Loss: 0.5977\n",
      "Epoch 00171 | Loss: 0.5973\n",
      "F1-Score: 0.8942 \n",
      "Epoch 00172 | Loss: 0.5970\n",
      "Epoch 00173 | Loss: 0.5969\n",
      "Epoch 00174 | Loss: 0.5966\n",
      "Epoch 00175 | Loss: 0.5966\n",
      "Epoch 00176 | Loss: 0.5964\n",
      "F1-Score: 0.8972 \n",
      "Epoch 00177 | Loss: 0.5964\n",
      "Epoch 00178 | Loss: 0.5962\n",
      "Epoch 00179 | Loss: 0.5964\n",
      "Epoch 00180 | Loss: 0.5963\n",
      "Epoch 00181 | Loss: 0.5962\n",
      "F1-Score: 0.9001 \n",
      "Epoch 00182 | Loss: 0.5963\n",
      "Epoch 00183 | Loss: 0.5961\n",
      "Epoch 00184 | Loss: 0.5958\n",
      "Epoch 00185 | Loss: 0.5954\n",
      "Epoch 00186 | Loss: 0.5952\n",
      "F1-Score: 0.9065 \n",
      "Epoch 00187 | Loss: 0.5951\n",
      "Epoch 00188 | Loss: 0.5951\n",
      "Epoch 00189 | Loss: 0.5949\n",
      "Epoch 00190 | Loss: 0.5949\n",
      "Epoch 00191 | Loss: 0.5948\n",
      "F1-Score: 0.9068 \n",
      "Epoch 00192 | Loss: 0.5946\n",
      "Epoch 00193 | Loss: 0.5945\n",
      "Epoch 00194 | Loss: 0.5942\n",
      "Epoch 00195 | Loss: 0.5941\n",
      "Epoch 00196 | Loss: 0.5938\n",
      "F1-Score: 0.9111 \n",
      "Epoch 00197 | Loss: 0.5938\n",
      "Epoch 00198 | Loss: 0.5936\n",
      "Epoch 00199 | Loss: 0.5934\n",
      "Epoch 00200 | Loss: 0.5931\n",
      "Epoch 00201 | Loss: 0.5931\n",
      "F1-Score: 0.9163 \n",
      "Epoch 00202 | Loss: 0.5928\n",
      "Epoch 00203 | Loss: 0.5926\n",
      "Epoch 00204 | Loss: 0.5923\n",
      "Epoch 00205 | Loss: 0.5921\n",
      "Epoch 00206 | Loss: 0.5920\n",
      "F1-Score: 0.9228 \n",
      "Epoch 00207 | Loss: 0.5920\n",
      "Epoch 00208 | Loss: 0.5919\n",
      "Epoch 00209 | Loss: 0.5918\n",
      "Epoch 00210 | Loss: 0.5918\n",
      "Epoch 00211 | Loss: 0.5918\n",
      "F1-Score: 0.9244 \n",
      "Epoch 00212 | Loss: 0.5918\n",
      "Epoch 00213 | Loss: 0.5918\n",
      "Epoch 00214 | Loss: 0.5916\n",
      "Epoch 00215 | Loss: 0.5914\n",
      "Epoch 00216 | Loss: 0.5912\n",
      "F1-Score: 0.9270 \n",
      "Epoch 00217 | Loss: 0.5910\n",
      "Epoch 00218 | Loss: 0.5909\n",
      "Epoch 00219 | Loss: 0.5908\n",
      "Epoch 00220 | Loss: 0.5907\n",
      "Epoch 00221 | Loss: 0.5907\n",
      "F1-Score: 0.9270 \n",
      "Epoch 00222 | Loss: 0.5909\n",
      "Epoch 00223 | Loss: 0.5910\n",
      "Epoch 00224 | Loss: 0.5910\n",
      "Epoch 00225 | Loss: 0.5911\n",
      "Epoch 00226 | Loss: 0.5913\n",
      "F1-Score: 0.9224 \n",
      "Epoch 00227 | Loss: 0.5913\n",
      "Epoch 00228 | Loss: 0.5914\n",
      "Epoch 00229 | Loss: 0.5916\n",
      "Epoch 00230 | Loss: 0.5913\n",
      "Epoch 00231 | Loss: 0.5911\n",
      "F1-Score: 0.9250 \n",
      "Epoch 00232 | Loss: 0.5910\n",
      "Epoch 00233 | Loss: 0.5907\n",
      "Epoch 00234 | Loss: 0.5905\n",
      "Epoch 00235 | Loss: 0.5904\n",
      "Epoch 00236 | Loss: 0.5903\n",
      "F1-Score: 0.9305 \n",
      "Epoch 00237 | Loss: 0.5900\n",
      "Epoch 00238 | Loss: 0.5900\n",
      "Epoch 00239 | Loss: 0.5898\n",
      "Epoch 00240 | Loss: 0.5896\n",
      "Epoch 00241 | Loss: 0.5896\n",
      "F1-Score: 0.9280 \n",
      "Epoch 00242 | Loss: 0.5895\n",
      "Epoch 00243 | Loss: 0.5893\n",
      "Epoch 00244 | Loss: 0.5895\n",
      "Epoch 00245 | Loss: 0.5893\n",
      "Epoch 00246 | Loss: 0.5892\n",
      "F1-Score: 0.9289 \n",
      "Epoch 00247 | Loss: 0.5892\n",
      "Epoch 00248 | Loss: 0.5889\n",
      "Epoch 00249 | Loss: 0.5888\n",
      "Epoch 00250 | Loss: 0.5890\n"
     ]
    },
    {
     "data": {
      "image/png": "[encoded data removed]",
      "text/plain": [
       "<Figure size 432x288 with 1 Axes>"
      ]
     },
     "metadata": {
      "needs_background": "light"
     },
     "output_type": "display_data"
    }
   ],
   "source": [
    "do_train()"
   ]
  },
  {
   "cell_type": "code",
   "execution_count": null,
   "metadata": {
    "colab": {
     "base_uri": "https://localhost:8080/"
    },
    "id": "bWGBpbzNjIHG",
    "outputId": "59d229b5-a59f-42e6-9bf7-bfe3b937fe35"
   },
   "outputs": [
    {
     "name": "stdout",
     "output_type": "stream",
     "text": [
      "F1-Score: 0.9323\n"
     ]
    }
   ],
   "source": [
    "do_test()"
   ]
  }
 ],
 "metadata": {
  "accelerator": "GPU",
  "colab": {
   "collapsed_sections": [],
   "name": "03_TP_GNN.ipynb",
   "provenance": []
  },
  "interpreter": {
   "hash": "63fd5069d213b44bf678585dea6b12cceca9941eaf7f819626cde1f2670de90d"
  },
  "kernelspec": {
   "display_name": "Python 3",
   "language": "python",
   "name": "python3"
  },
  "language_info": {
   "codemirror_mode": {
    "name": "ipython",
    "version": 3
   },
   "file_extension": ".py",
   "mimetype": "text/x-python",
   "name": "python",
   "nbconvert_exporter": "python",
   "pygments_lexer": "ipython3",
   "version": "3.6.8"
  }
 },
 "nbformat": 4,
 "nbformat_minor": 1
}
